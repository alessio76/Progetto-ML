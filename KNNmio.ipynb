{
  "nbformat": 4,
  "nbformat_minor": 0,
  "metadata": {
    "colab": {
      "name": "KNNmio.ipynb",
      "provenance": [],
      "collapsed_sections": [],
      "authorship_tag": "ABX9TyMDnui+pRoW8/gNo5YDRdN5",
      "include_colab_link": true
    },
    "kernelspec": {
      "name": "python3",
      "display_name": "Python 3"
    },
    "language_info": {
      "name": "python"
    }
  },
  "cells": [
    {
      "cell_type": "markdown",
      "metadata": {
        "id": "view-in-github",
        "colab_type": "text"
      },
      "source": [
        "<a href=\"https://colab.research.google.com/github/alessio76/Progetto-ML/blob/main/KNNmio.ipynb\" target=\"_parent\"><img src=\"https://colab.research.google.com/assets/colab-badge.svg\" alt=\"Open In Colab\"/></a>"
      ]
    },
    {
      "cell_type": "code",
      "metadata": {
        "id": "0LW9CytfsYxL"
      },
      "source": [
        "# Moduli di scikit-learn\n",
        "from sklearn.neighbors import KNeighborsClassifier\n",
        "from sklearn.model_selection import cross_val_score, GridSearchCV, ParameterGrid, train_test_split\n",
        "from sklearn.datasets import load_breast_cancer\n",
        "from sklearn.neighbors import DistanceMetric\n",
        "from sklearn import metrics\n",
        "from sklearn.preprocessing import StandardScaler, MinMaxScaler, MaxAbsScaler\n",
        "from sklearn.metrics import confusion_matrix\n",
        "from sklearn.decomposition import PCA\n",
        "from sklearn.discriminant_analysis import LinearDiscriminantAnalysis as LDA\n",
        "import numpy as np\n",
        "from numpy import linalg as la\n",
        "import pandas as pd\n",
        "from sklearn import metrics\n",
        "import matplotlib.pyplot as plt\n",
        "import seaborn as sns; sns.set()\n",
        "\n"
      ],
      "execution_count": null,
      "outputs": []
    },
    {
      "cell_type": "code",
      "metadata": {
        "id": "Vbsbbw1dplAu"
      },
      "source": [
        "def find_indices(input_array,label):\n",
        "  indices = np.where(input_array == label)\n",
        "  return indices"
      ],
      "execution_count": null,
      "outputs": []
    },
    {
      "cell_type": "code",
      "metadata": {
        "id": "EGtHyKqNqLjQ"
      },
      "source": [
        "def plot(x1, x2):\n",
        "    plt.scatter(x1[:,0], x1[:,1], c='r', marker = '.')\n",
        "    plt.scatter(x2[:,0], x2[:,1], c='b', marker = '.')\n",
        "    plt.show()    "
      ],
      "execution_count": null,
      "outputs": []
    },
    {
      "cell_type": "code",
      "metadata": {
        "colab": {
          "base_uri": "https://localhost:8080/",
          "height": 35
        },
        "id": "UkrI8KztyvyQ",
        "outputId": "747e8c60-469d-424b-cb97-14d201110b37"
      },
      "source": [
        "def grid_search(training_set, param_grid, n_folds, training_labels):\n",
        "  classifier =  KNeighborsClassifier()\n",
        "  grid_search_cv = GridSearchCV(classifier, param_grid, cv=n_folds)\n",
        "  grid_search_cv.fit(training_set,training_labels)\n",
        "  print('Combinazione migliore:\\n', grid_search_cv.best_params_)\n",
        "  print('Accuratezza media della combinazione migliore: %.3f' % grid_search_cv.best_score_)\n",
        "  classifier = KNeighborsClassifier(**grid_search_cv.best_params_)\n",
        "  classifier.fit(training_set, training_labels)\n",
        "  return classifier\n",
        "\n",
        "'''mahalanobisClassifier = KNeighborsClassifier(n_neighbors=9, algorithm='brute', metric='mahalanobis',metric_params={'V': np.cov(x)})\n",
        "mahalanobisClassifier.fit(train_x,train_y)'''\n"
      ],
      "execution_count": null,
      "outputs": [
        {
          "output_type": "execute_result",
          "data": {
            "application/vnd.google.colaboratory.intrinsic+json": {
              "type": "string"
            },
            "text/plain": [
              "\"mahalanobisClassifier = KNeighborsClassifier(n_neighbors=9, algorithm='brute', metric='mahalanobis',metric_params={'V': np.cov(x)})\\nmahalanobisClassifier.fit(train_x,train_y)\""
            ]
          },
          "metadata": {},
          "execution_count": 51
        }
      ]
    },
    {
      "cell_type": "code",
      "metadata": {
        "colab": {
          "base_uri": "https://localhost:8080/",
          "height": 35
        },
        "id": "DtZzgq-q4CCU",
        "outputId": "46c54885-b346-4d12-8cdf-841dcf722fbc"
      },
      "source": [
        "def predict_values(classifier, test_set, training_set):\n",
        "  y_test = classifier.predict(test_set)\n",
        "  y_train = classifier.predict(training_set)\n",
        "  return y_test, y_train \n",
        "'''pred_y_test_mahalanobis = mahalanobisClassifier.predict(test_x)\n",
        "pred_y_train_mahalanobis = mahalanobisClassifier.predict(train_x)'''"
      ],
      "execution_count": null,
      "outputs": [
        {
          "output_type": "execute_result",
          "data": {
            "application/vnd.google.colaboratory.intrinsic+json": {
              "type": "string"
            },
            "text/plain": [
              "'pred_y_test_mahalanobis = mahalanobisClassifier.predict(test_x)\\npred_y_train_mahalanobis = mahalanobisClassifier.predict(train_x)'"
            ]
          },
          "metadata": {},
          "execution_count": 52
        }
      ]
    },
    {
      "cell_type": "code",
      "metadata": {
        "colab": {
          "base_uri": "https://localhost:8080/",
          "height": 35
        },
        "id": "qCAbtcLRF4m3",
        "outputId": "c0802fa5-d78b-420f-d33c-a85863fcbc0c"
      },
      "source": [
        "def scoring(pred_y_test, pred_y_train, test_y, train_y):  \n",
        "  print(metrics.classification_report(test_y, pred_y_test))\n",
        "  print(metrics.classification_report(train_y, pred_y_train))\n",
        "  mat = confusion_matrix(test_y, pred_y_test)\n",
        "  sns.heatmap(mat.T, square=True, annot=True, fmt='d', cbar=False)\n",
        "\n",
        "'''print(metrics.classification_report(test_y,pred_y_test_mahalanobis))\n",
        "print(metrics.classification_report(train_y, pred_y_train_mahalanobis))'''\n",
        "\n",
        "  "
      ],
      "execution_count": null,
      "outputs": [
        {
          "output_type": "execute_result",
          "data": {
            "application/vnd.google.colaboratory.intrinsic+json": {
              "type": "string"
            },
            "text/plain": [
              "'print(metrics.classification_report(test_y,pred_y_test_mahalanobis))\\nprint(metrics.classification_report(train_y, pred_y_train_mahalanobis))'"
            ]
          },
          "metadata": {},
          "execution_count": 53
        }
      ]
    },
    {
      "cell_type": "code",
      "metadata": {
        "colab": {
          "base_uri": "https://localhost:8080/"
        },
        "id": "d-7g4Qh6xnzn",
        "outputId": "1a486ac3-4197-4603-848a-b2182e0d25bf"
      },
      "source": [
        "#dataset è un dizionario\n",
        "dataset = load_breast_cancer()\n",
        "x,y = dataset[\"data\"], dataset[\"target\"]\n",
        "train_x, test_x, train_y, test_y = train_test_split(x, y, test_size=.3, random_state=1)\n",
        "print(train_x.shape, test_x.shape)"
      ],
      "execution_count": null,
      "outputs": [
        {
          "output_type": "stream",
          "name": "stdout",
          "text": [
            "(398, 30) (171, 30)\n"
          ]
        }
      ]
    },
    {
      "cell_type": "code",
      "metadata": {
        "id": "xkCbtunaurl5",
        "colab": {
          "base_uri": "https://localhost:8080/",
          "height": 621
        },
        "outputId": "2f6ee8e1-1c38-4bac-cbdc-de351302d69b"
      },
      "source": [
        "param_grid = [{'n_neighbors' : [1,3,5,7,9,11], 'metric' : ['euclidean']},\n",
        "              {'n_neighbors' : [1,3,5,7,9,11], 'metric' : ['mahalanobis'],\n",
        "               'metric_params': [{'V': np.cov(np.transpose(train_x))}]}]\n",
        "n_folds = 9\n",
        "base_KNN = grid_search(train_x, param_grid, n_folds, train_y)\n",
        "pred_y_test, pred_y_train = predict_values(base_KNN, test_x, train_x)\n",
        "scoring(pred_y_test, pred_y_train, test_y, train_y)"
      ],
      "execution_count": null,
      "outputs": [
        {
          "output_type": "stream",
          "name": "stdout",
          "text": [
            "Combinazione migliore:\n",
            " {'metric': 'euclidean', 'n_neighbors': 11}\n",
            "Accuratezza media della combinazione migliore: 0.927\n",
            "              precision    recall  f1-score   support\n",
            "\n",
            "           0       0.95      0.87      0.91        63\n",
            "           1       0.93      0.97      0.95       108\n",
            "\n",
            "    accuracy                           0.94       171\n",
            "   macro avg       0.94      0.92      0.93       171\n",
            "weighted avg       0.94      0.94      0.94       171\n",
            "\n",
            "              precision    recall  f1-score   support\n",
            "\n",
            "           0       0.95      0.87      0.91       149\n",
            "           1       0.93      0.97      0.95       249\n",
            "\n",
            "    accuracy                           0.93       398\n",
            "   macro avg       0.94      0.92      0.93       398\n",
            "weighted avg       0.94      0.93      0.93       398\n",
            "\n"
          ]
        },
        {
          "output_type": "display_data",
          "data": {
            "image/png": "[encoded data removed]",
            "text/plain": [
              "<Figure size 432x288 with 1 Axes>"
            ]
          },
          "metadata": {}
        }
      ]
    },
    {
      "cell_type": "code",
      "metadata": {
        "id": "UnM-RgVO3I2w"
      },
      "source": [
        "scaler = StandardScaler()\n",
        "scaler.fit(train_x)\n",
        "scaled_train_x = scaler.transform(train_x)\n",
        "scaled_test_x = scaler.transform(test_x)"
      ],
      "execution_count": null,
      "outputs": []
    },
    {
      "cell_type": "code",
      "metadata": {
        "colab": {
          "base_uri": "https://localhost:8080/",
          "height": 621
        },
        "id": "iCC3gNKYyS4H",
        "outputId": "3aac02f7-e4da-4c4c-cf84-7deaa12f7dba"
      },
      "source": [
        "param_grid = [{'n_neighbors' : [1,3,5,7,9,11], 'metric' : ['euclidean']},\n",
        "              {'n_neighbors' : [1,3,5,7,9,11], 'metric' : ['mahalanobis'],\n",
        "               'metric_params': [{'V': np.cov(np.transpose(scaled_train_x))}]}]\n",
        "n_folds = 9\n",
        "scaled_KNN = grid_search(scaled_train_x, param_grid, n_folds, train_y)\n",
        "scaled_pred_y_test, scaled_pred_y_train = predict_values(scaled_KNN, scaled_test_x, scaled_train_x)\n",
        "scoring(scaled_pred_y_test, scaled_pred_y_train, test_y, train_y)"
      ],
      "execution_count": null,
      "outputs": [
        {
          "output_type": "stream",
          "name": "stdout",
          "text": [
            "Combinazione migliore:\n",
            " {'metric': 'euclidean', 'n_neighbors': 7}\n",
            "Accuratezza media della combinazione migliore: 0.973\n",
            "              precision    recall  f1-score   support\n",
            "\n",
            "           0       0.98      0.90      0.94        63\n",
            "           1       0.95      0.99      0.97       108\n",
            "\n",
            "    accuracy                           0.96       171\n",
            "   macro avg       0.96      0.95      0.96       171\n",
            "weighted avg       0.96      0.96      0.96       171\n",
            "\n",
            "              precision    recall  f1-score   support\n",
            "\n",
            "           0       0.99      0.95      0.97       149\n",
            "           1       0.97      0.99      0.98       249\n",
            "\n",
            "    accuracy                           0.97       398\n",
            "   macro avg       0.98      0.97      0.97       398\n",
            "weighted avg       0.98      0.97      0.97       398\n",
            "\n"
          ]
        },
        {
          "output_type": "display_data",
          "data": {
            "image/png": "[encoded data removed]",
            "text/plain": [
              "<Figure size 432x288 with 1 Axes>"
            ]
          },
          "metadata": {}
        }
      ]
    },
    {
      "cell_type": "code",
      "metadata": {
        "colab": {
          "base_uri": "https://localhost:8080/"
        },
        "id": "332LYZ8ou1eR",
        "outputId": "01da5854-be61-4760-83a7-399b81f3061f"
      },
      "source": [
        "'''sigma = np.cov(np.transpose(scaled_train_x))\n",
        "w,v = la.eig(sigma)\n",
        "w.sort()\n",
        "i = 29\n",
        "max_sum = sum(w)\n",
        "current_sum = w[29]\n",
        "ratio = current_sum/max_sum\n",
        "\n",
        "while(ratio <.95):\n",
        "  #print(ratio,w[i:],i,'\\n')\n",
        "  current_sum = sum(w[i:])\n",
        "  ratio = current_sum/max_sum\n",
        "  i = i-1\n",
        "  \n",
        "n_components = x.shape[1]-(i+1)\n",
        "print(n_components)'''\n",
        "\n",
        "preservedInfo = .95\n",
        "pca = PCA(preservedInfo)\n",
        "pca.fit(scaled_train_x)\n",
        "reduced_train_x, reduced_test_x = pca.transform(scaled_train_x), pca.transform(scaled_test_x)\n",
        "print(reduced_train_x.shape, reduced_test_x.shape)\n"
      ],
      "execution_count": null,
      "outputs": [
        {
          "output_type": "stream",
          "name": "stdout",
          "text": [
            "(398, 10) (171, 10)\n"
          ]
        }
      ]
    },
    {
      "cell_type": "code",
      "metadata": {
        "colab": {
          "base_uri": "https://localhost:8080/",
          "height": 621
        },
        "id": "OmmHYSVNu8lz",
        "outputId": "532dc81a-7ea2-41ea-b280-cf690548de09"
      },
      "source": [
        "param_grid = [{'n_neighbors' : [1,3,5,7,9,11], 'metric' : ['euclidean']},\n",
        "              {'n_neighbors' : [1,3,5,7,9,11], 'metric' : ['mahalanobis'],\n",
        "               'metric_params': [{'V': np.cov(np.transpose(reduced_train_x))}]}]\n",
        "n_folds = 9\n",
        "reduced_KNN = grid_search(reduced_train_x, param_grid, n_folds, train_y)\n",
        "reduced_pred_y_test, reduced_pred_y_train = predict_values(reduced_KNN, reduced_test_x, reduced_train_x)\n",
        "scoring(reduced_pred_y_test, reduced_pred_y_train, test_y, train_y)\n"
      ],
      "execution_count": null,
      "outputs": [
        {
          "output_type": "stream",
          "name": "stdout",
          "text": [
            "Combinazione migliore:\n",
            " {'metric': 'euclidean', 'n_neighbors': 7}\n",
            "Accuratezza media della combinazione migliore: 0.968\n",
            "              precision    recall  f1-score   support\n",
            "\n",
            "           0       0.98      0.89      0.93        63\n",
            "           1       0.94      0.99      0.96       108\n",
            "\n",
            "    accuracy                           0.95       171\n",
            "   macro avg       0.96      0.94      0.95       171\n",
            "weighted avg       0.95      0.95      0.95       171\n",
            "\n",
            "              precision    recall  f1-score   support\n",
            "\n",
            "           0       0.99      0.94      0.96       149\n",
            "           1       0.96      0.99      0.98       249\n",
            "\n",
            "    accuracy                           0.97       398\n",
            "   macro avg       0.98      0.97      0.97       398\n",
            "weighted avg       0.97      0.97      0.97       398\n",
            "\n"
          ]
        },
        {
          "output_type": "display_data",
          "data": {
            "image/png": "[encoded data removed]",
            "text/plain": [
              "<Figure size 432x288 with 1 Axes>"
            ]
          },
          "metadata": {}
        }
      ]
    },
    {
      "cell_type": "code",
      "metadata": {
        "colab": {
          "base_uri": "https://localhost:8080/",
          "height": 621
        },
        "id": "rsL1zDeTgKkj",
        "outputId": "44bf826c-eb3d-4fc4-91c8-7d4091961630"
      },
      "source": [
        "lda = LDA()\n",
        "lda.fit(scaled_train_x, train_y)\n",
        "reduced_train_x_lda, reduced_test_x_lda = lda.transform(scaled_train_x), lda.transform(scaled_test_x)\n",
        "param_grid = [{'n_neighbors' : [1,3,5,7,9,11], 'metric' : ['euclidean']}]\n",
        "n_folds = 9\n",
        "reduced_lda_KNN = grid_search(reduced_train_x_lda, param_grid, n_folds, train_y)\n",
        "reduced_lda_pred_y_test, reduced_lda_pred_y_train = predict_values(reduced_lda_KNN, reduced_test_x_lda, reduced_train_x_lda)\n",
        "scoring(reduced_lda_pred_y_test, reduced_lda_pred_y_train, test_y, train_y)"
      ],
      "execution_count": null,
      "outputs": [
        {
          "output_type": "stream",
          "name": "stdout",
          "text": [
            "Combinazione migliore:\n",
            " {'metric': 'euclidean', 'n_neighbors': 11}\n",
            "Accuratezza media della combinazione migliore: 0.985\n",
            "              precision    recall  f1-score   support\n",
            "\n",
            "           0       0.97      0.92      0.94        63\n",
            "           1       0.95      0.98      0.97       108\n",
            "\n",
            "    accuracy                           0.96       171\n",
            "   macro avg       0.96      0.95      0.96       171\n",
            "weighted avg       0.96      0.96      0.96       171\n",
            "\n",
            "              precision    recall  f1-score   support\n",
            "\n",
            "           0       0.98      0.98      0.98       149\n",
            "           1       0.99      0.99      0.99       249\n",
            "\n",
            "    accuracy                           0.98       398\n",
            "   macro avg       0.98      0.98      0.98       398\n",
            "weighted avg       0.98      0.98      0.98       398\n",
            "\n"
          ]
        },
        {
          "output_type": "display_data",
          "data": {
            "image/png": "[encoded data removed]",
            "text/plain": [
              "<Figure size 432x288 with 1 Axes>"
            ]
          },
          "metadata": {}
        }
      ]
    },
    {
      "cell_type": "code",
      "metadata": {
        "colab": {
          "base_uri": "https://localhost:8080/",
          "height": 268
        },
        "id": "PBdBKqekyicB",
        "outputId": "ad769376-f82f-487d-b3fa-0f70f621949c"
      },
      "source": [
        "pca2 = PCA(2)\n",
        "figure_x_pca = pca2.fit_transform(scaled_train_x)\n",
        "index1 = find_indices(train_y,1)\n",
        "index2 = find_indices(train_y,0)\n",
        "x1,x2 = figure_x_pca[index1], figure_x_pca[index2] \n",
        "plot(x1, x2)"
      ],
      "execution_count": null,
      "outputs": [
        {
          "output_type": "display_data",
          "data": {
            "image/png": "[encoded data removed]",
            "text/plain": [
              "<Figure size 432x288 with 1 Axes>"
            ]
          },
          "metadata": {}
        }
      ]
    },
    {
      "cell_type": "code",
      "metadata": {
        "id": "NE3CFZTQwNDX"
      },
      "source": [
        "  "
      ],
      "execution_count": null,
      "outputs": []
    }
  ]
}