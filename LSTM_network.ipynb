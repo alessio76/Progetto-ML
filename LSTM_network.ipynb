{
  "nbformat": 4,
  "nbformat_minor": 0,
  "metadata": {
    "colab": {
      "name": "LSTM_network.ipynb",
      "provenance": [],
      "collapsed_sections": [],
      "authorship_tag": "ABX9TyPOk2ys5NUfwR0zrNu/+Gdb",
      "include_colab_link": true
    },
    "kernelspec": {
      "name": "python3",
      "display_name": "Python 3"
    },
    "language_info": {
      "name": "python"
    }
  },
  "cells": [
    {
      "cell_type": "markdown",
      "metadata": {
        "id": "view-in-github",
        "colab_type": "text"
      },
      "source": [
        "<a href=\"https://colab.research.google.com/github/alessio76/Progetto-ML/blob/main/LSTM_network.ipynb\" target=\"_parent\"><img src=\"https://colab.research.google.com/assets/colab-badge.svg\" alt=\"Open In Colab\"/></a>"
      ]
    },
    {
      "cell_type": "code",
      "metadata": {
        "id": "62rOxKU40my5"
      },
      "source": [
        "import numpy as np\n",
        "import keras\n",
        "import tensorflow as tf\n",
        "from sklearn.model_selection import train_test_split\n",
        "import matplotlib.pyplot as plt\n",
        "from matplotlib import pyplot\n",
        "import json\n",
        "from google.colab import files\n",
        "import copy\n",
        "from sklearn.preprocessing import StandardScaler\n",
        "import time\n",
        "from sklearn.datasets import load_breast_cancer"
      ],
      "execution_count": 2,
      "outputs": []
    },
    {
      "cell_type": "code",
      "metadata": {
        "id": "83RJK8sMMqRM"
      },
      "source": [
        "def build_model_n_layer(activation_hidden='relu', recurrent_activation='sigmoid', learning_rate=0.1, momentum=0, optimizer='SGD', n_neurons = 5, \n",
        "                loss = 'sparse_categorical_crossentropy', regularization = None, recurrent_regularization=None, n_layers = 1, n_features = 30, init_mode = 'glorot_uniform'):\n",
        "   n_classes = 2\n",
        "   hidden_layers = list()\n",
        "\n",
        "   for i in range(n_layers-1):\n",
        "     layer = tf.keras.layers.LSTM(n_neurons, activation=activation_hidden, recurrent_activation=recurrent_activation, kernel_regularizer= regularization,\n",
        "                                  recurrent_regularizer=recurrent_regularization, return_sequences=True, kernel_initializer=init_mode)\n",
        "     hidden_layers.append(layer)\n",
        "     \n",
        "   first_layer = [tf.keras.layers.LSTM(n_features, activation=activation_hidden, input_shape=(n_features,1), recurrent_activation=recurrent_activation, \n",
        "                                       kernel_regularizer= regularization, recurrent_regularizer=recurrent_regularization, return_sequences = True, kernel_initializer=init_mode)]\n",
        "\n",
        "   last_layer = [tf.keras.layers.LSTM(n_neurons, activation=activation_hidden, recurrent_activation=recurrent_activation, kernel_regularizer= regularization,\n",
        "                                      recurrent_regularizer=recurrent_regularization, kernel_initializer=init_mode),\n",
        "                tf.keras.layers.Dense(n_classes, activation='softmax', kernel_initializer=init_mode)]            \n",
        "   \n",
        "   total_layers = first_layer + hidden_layers + last_layer                          \n",
        "   model = tf.keras.Sequential(total_layers)\n",
        "  \n",
        "   if optimizer == 'SGD':\n",
        "         optimizer=tf.keras.optimizers.SGD(learning_rate=learning_rate, momentum=momentum)\n",
        "\n",
        "\n",
        "   model.compile(loss=loss, optimizer=optimizer, metrics = 'accuracy')\n",
        "   return model"
      ],
      "execution_count": 28,
      "outputs": []
    },
    {
      "cell_type": "code",
      "metadata": {
        "id": "K12ZF0AWY7Z8"
      },
      "source": [
        "def scoring(train_x, train_y, test_x, test_y, model):\n",
        "  y_pred_test, y_pred_train = model.predict(input_test), model.predict(input_train)\n",
        "  y_pred_test, y_pred_train = transform_y_pred(y_pred_test), transform_y_pred(y_pred_train)\n",
        "  compute_precision, compute_recall = tf.keras.metrics.Precision(), tf.keras.metrics.Recall()\n",
        "  compute_precision.update_state(train_y, y_pred_train)\n",
        "  compute_recall.update_state(train_y, y_pred_train)\n",
        "  train_precision, train_recall = compute_precision.result(), compute_recall.result()\n",
        "\n",
        "  compute_precision.update_state(test_y, y_pred_test)\n",
        "  compute_recall.update_state(test_y, y_pred_test)\n",
        "  test_precision, test_recall = compute_precision.result(), compute_recall.result()\n",
        "\n",
        "  print(\"Train:\", \"Precision = \",train_precision, \"Recall = \", train_recall, '\\n')\n",
        "  print(\"Test:\", \"Precision = \",test_precision, \"Recall = \", test_recall, '\\n')"
      ],
      "execution_count": 15,
      "outputs": []
    },
    {
      "cell_type": "code",
      "metadata": {
        "id": "Qt6UFFS7ciKo"
      },
      "source": [
        "def transform_y_pred(pred_y):\n",
        "  transformed_y = list()\n",
        "  for i in range(pred_y.shape[0]):\n",
        "    actual_max = max(pred_y[i, :])\n",
        "    transformed_y.append(list(np.where(pred_y[i,:] == actual_max))[0])\n",
        "  return transformed_y\n"
      ],
      "execution_count": 5,
      "outputs": []
    },
    {
      "cell_type": "code",
      "metadata": {
        "id": "ithbbijENjY4"
      },
      "source": [
        "def transform_x(x):  \n",
        "  length = x.shape[0]\n",
        "  transformed_x = np.array(x)\n",
        "  transformed_x = np.reshape(transformed_x, (transformed_x.shape[0], transformed_x.shape[1], 1))\n",
        "  return transformed_x"
      ],
      "execution_count": 18,
      "outputs": []
    },
    {
      "cell_type": "code",
      "metadata": {
        "id": "sxzFwI28skjN"
      },
      "source": [
        "def plot(history):\n",
        " #plotter = tfdocs.plots.HistoryPlotter(smoothing_std=0)\n",
        " epochs = history.epoch\n",
        " plt.plot(epochs, history.history['accuracy'])\n",
        " plt.xlabel(\"epochs\")\n",
        " plt.ylabel('Accuracy_train')\n",
        " plt.show()\n",
        "\n",
        " plt.plot(epochs, history.history['val_accuracy'])\n",
        " plt.xlabel(\"epochs\")\n",
        " plt.ylabel('Accuracy_val')\n",
        " plt.show()\n",
        "\n",
        " plt.plot(epochs, history.history['loss'])\n",
        " plt.xlabel(\"epochs\")\n",
        " plt.ylabel('Loss_train')\n",
        " plt.show()\n",
        "\n",
        " plt.plot(epochs, history.history['val_loss'])\n",
        " plt.xlabel(\"epochs\")\n",
        " plt.ylabel('Loss_test')\n",
        " plt.show()"
      ],
      "execution_count": 6,
      "outputs": []
    },
    {
      "cell_type": "code",
      "metadata": {
        "colab": {
          "base_uri": "https://localhost:8080/"
        },
        "id": "VM_QEWWyVxba",
        "outputId": "62711455-8f3a-4029-a959-4f6735b69b17"
      },
      "source": [
        "#dataset è un dizionario\n",
        "dataset = load_breast_cancer()\n",
        "x,y = dataset[\"data\"], dataset[\"target\"]\n",
        "train_x, test_x, train_y, test_y = train_test_split(x, y, test_size=.2, random_state=1)\n",
        "print(train_x.shape, test_x.shape)\n",
        "scaler = StandardScaler()\n",
        "scaler.fit(train_x)\n",
        "train_x = scaler.transform(train_x)\n",
        "test_x = scaler.transform(test_x)"
      ],
      "execution_count": 7,
      "outputs": [
        {
          "output_type": "stream",
          "name": "stdout",
          "text": [
            "(455, 30) (114, 30)\n"
          ]
        }
      ]
    },
    {
      "cell_type": "markdown",
      "metadata": {
        "id": "tiYddWCWuiWq"
      },
      "source": [
        "Anche qui ADAM più regolare, L1 migliora regolarità più di L2"
      ]
    },
    {
      "cell_type": "code",
      "metadata": {
        "colab": {
          "base_uri": "https://localhost:8080/"
        },
        "id": "Lmx4QLA1bxRK",
        "outputId": "154b7b0a-320c-44eb-a314-5505689cf15f"
      },
      "source": [
        "print(model_n_layers_param)"
      ],
      "execution_count": 42,
      "outputs": [
        {
          "output_type": "stream",
          "name": "stdout",
          "text": [
            "{'n_neurons': 10, 'n_layers': 4, 'activation_hidden': 'tanh', 'learning_rate': 0.3, 'regularization': <keras.regularizers.L1 object at 0x7fc855dc8d90>, 'recurrent_regularization': <keras.regularizers.L1 object at 0x7fc855dc8b50>}\n"
          ]
        }
      ]
    },
    {
      "cell_type": "markdown",
      "metadata": {
        "id": "lRmDReXBeP_v"
      },
      "source": [
        "soltanto glorot e he danno performance accettabili, glorot leggermente superiore. L2 meglio di L1, SGD non è adatto"
      ]
    },
    {
      "cell_type": "code",
      "metadata": {
        "colab": {
          "base_uri": "https://localhost:8080/",
          "height": 1000
        },
        "id": "08R_WmPEWxYA",
        "outputId": "06096207-e9eb-4187-a751-cef7dfcfde82"
      },
      "source": [
        "model_n_layers_param = dict()\n",
        "model_n_layers_param[\"n_neurons\"] = 20\n",
        "model_n_layers_param[\"n_layers\"] = 5\n",
        "model_n_layers_param[\"activation_hidden\"] = 'tanh'\n",
        "model_n_layers_param[\"optimizer\"] = 'Adam'\n",
        "model_n_layers_param[\"learning_rate\"] = .3\n",
        "model_n_layers_param[\"regularization\"] = tf.keras.regularizers.L2(.01)\n",
        "model_n_layers_param[\"recurrent_regularization\"] = tf.keras.regularizers.L2(.001)\n",
        "init_mode = ['random_uniform', 'random_normal', 'zero', 'glorot_normal', 'glorot_uniform','he_normal', 'he_uniform']\n",
        "model_n_layers_param[\"init_mode\"] = 'glorot_uniform'\n",
        "batch_size = 50\n",
        "epochs = 12\n",
        "model4 = build_model_n_layer(**model_n_layers_param)\n",
        "model4.summary()\n",
        "early_stop = tf.keras.callbacks.EarlyStopping(monitor='loss', patience=20, restore_best_weights=True)\n",
        "start = time.time()\n",
        "input_train, input_test = transform_x(train_x), transform_x(test_x)\n",
        "history = model4.fit(input_train, train_y, epochs=epochs, batch_size=batch_size,  validation_split = 0.1, shuffle=True, verbose=0, callbacks=[early_stop])\n",
        "print('\\nTraining MLP completato in %.2f s.' % (time.time() - start))\n",
        "scoring(input_train, train_y, input_test, test_y, model4)\n",
        "plot(history)"
      ],
      "execution_count": 81,
      "outputs": [
        {
          "output_type": "stream",
          "name": "stdout",
          "text": [
            "Model: \"sequential_61\"\n",
            "_________________________________________________________________\n",
            "Layer (type)                 Output Shape              Param #   \n",
            "=================================================================\n",
            "lstm_345 (LSTM)              (None, 30, 30)            3840      \n",
            "_________________________________________________________________\n",
            "lstm_341 (LSTM)              (None, 30, 20)            4080      \n",
            "_________________________________________________________________\n",
            "lstm_342 (LSTM)              (None, 30, 20)            3280      \n",
            "_________________________________________________________________\n",
            "lstm_343 (LSTM)              (None, 30, 20)            3280      \n",
            "_________________________________________________________________\n",
            "lstm_344 (LSTM)              (None, 30, 20)            3280      \n",
            "_________________________________________________________________\n",
            "lstm_346 (LSTM)              (None, 20)                3280      \n",
            "_________________________________________________________________\n",
            "dense_61 (Dense)             (None, 2)                 42        \n",
            "=================================================================\n",
            "Total params: 21,082\n",
            "Trainable params: 21,082\n",
            "Non-trainable params: 0\n",
            "_________________________________________________________________\n",
            "\n",
            "Training MLP completato in 28.05 s.\n",
            "Train: Precision =  tf.Tensor(0.9641577, shape=(), dtype=float32) Recall =  tf.Tensor(0.94385964, shape=(), dtype=float32) \n",
            "\n",
            "Test: Precision =  tf.Tensor(0.95988536, shape=(), dtype=float32) Recall =  tf.Tensor(0.93837535, shape=(), dtype=float32) \n",
            "\n"
          ]
        },
        {
          "output_type": "display_data",
          "data": {
            "image/png": "[encoded data removed]",
            "text/plain": [
              "<Figure size 432x288 with 1 Axes>"
            ]
          },
          "metadata": {
            "needs_background": "light"
          }
        },
        {
          "output_type": "display_data",
          "data": {
            "image/png": "[encoded data removed]",
            "text/plain": [
              "<Figure size 432x288 with 1 Axes>"
            ]
          },
          "metadata": {
            "needs_background": "light"
          }
        },
        {
          "output_type": "display_data",
          "data": {
            "image/png": "[encoded data removed]",
            "text/plain": [
              "<Figure size 432x288 with 1 Axes>"
            ]
          },
          "metadata": {
            "needs_background": "light"
          }
        },
        {
          "output_type": "display_data",
          "data": {
            "image/png": "[encoded data removed]",
            "text/plain": [
              "<Figure size 432x288 with 1 Axes>"
            ]
          },
          "metadata": {
            "needs_background": "light"
          }
        }
      ]
    },
    {
      "cell_type": "code",
      "metadata": {
        "id": "cFnXerQ1XjhC"
      },
      "source": [
        ""
      ],
      "execution_count": null,
      "outputs": []
    }
  ]
}