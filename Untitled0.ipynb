{
  "nbformat": 4,
  "nbformat_minor": 0,
  "metadata": {
    "colab": {
      "name": "Untitled0.ipynb",
      "provenance": [],
      "collapsed_sections": [],
      "authorship_tag": "ABX9TyPIPP1lZVzeu1XlvLVck7Rl",
      "include_colab_link": true
    },
    "kernelspec": {
      "name": "python3",
      "display_name": "Python 3"
    },
    "language_info": {
      "name": "python"
    }
  },
  "cells": [
    {
      "cell_type": "markdown",
      "metadata": {
        "id": "view-in-github",
        "colab_type": "text"
      },
      "source": [
        "<a href=\"https://colab.research.google.com/github/alessio76/Progetto-ML/blob/main/Untitled0.ipynb\" target=\"_parent\"><img src=\"https://colab.research.google.com/assets/colab-badge.svg\" alt=\"Open In Colab\"/></a>"
      ]
    },
    {
      "cell_type": "code",
      "metadata": {
        "id": "0LW9CytfsYxL"
      },
      "source": [
        "# Moduli di scikit-learn\n",
        "from sklearn.neighbors import KNeighborsClassifier\n",
        "from sklearn.model_selection import cross_val_score, GridSearchCV, ParameterGrid, train_test_split\n",
        "from sklearn.datasets import load_breast_cancer\n",
        "from sklearn.neighbors import DistanceMetric\n",
        "from sklearn.preprocessing import normalize\n",
        "from sklearn import metrics\n",
        "from sklearn.preprocessing import StandardScaler, MinMaxScaler, MaxAbsScaler\n",
        "from sklearn.metrics import confusion_matrix\n",
        "import numpy as np\n",
        "import seaborn as sns; sns.set()\n",
        "\n"
      ],
      "execution_count": 581,
      "outputs": []
    },
    {
      "cell_type": "code",
      "metadata": {
        "colab": {
          "base_uri": "https://localhost:8080/"
        },
        "id": "xkCbtunaurl5",
        "outputId": "a3e0b85a-7758-4c16-fa5c-419d9c58527a"
      },
      "source": [
        "#dataset è un dizionario\n",
        "dataset = load_breast_cancer()\n",
        "x,y = dataset[\"data\"], dataset[\"target\"]\n",
        "#indici degli elementi delle 2 classi\n",
        "train_x, test_x, train_y, test_y = train_test_split(x, y, test_size=.4)\n",
        "print(train_x.shape, train_y.shape, test_x.shape, test_y.shape)"
      ],
      "execution_count": 582,
      "outputs": [
        {
          "output_type": "stream",
          "name": "stdout",
          "text": [
            "(341, 30) (341,) (228, 30) (228,)\n"
          ]
        }
      ]
    },
    {
      "cell_type": "code",
      "metadata": {
        "colab": {
          "base_uri": "https://localhost:8080/",
          "height": 186
        },
        "id": "UkrI8KztyvyQ",
        "outputId": "dc098f51-4525-4251-a63a-1428fb85d7f3"
      },
      "source": [
        "classifier =  KNeighborsClassifier()\n",
        "n_folds = 9\n",
        "param_grid = [{'n_neighbors' : [1,3,5,7,9], 'metric' : ['euclidean']},\n",
        "              {'n_neighbors' : [1,3,5,7,9], 'metric' : ['mahalanobis'],\n",
        "               'metric_params': [{'V': np.cov(train_x,rowvar=False)}]}]\n",
        "grid_search_cv = GridSearchCV(classifier, param_grid, cv=n_folds)\n",
        "grid_search_cv.fit(train_x,train_y)\n",
        "\n",
        "print('Combinazione migliore:\\n', grid_search_cv.best_params_)\n",
        "print('Accuratezza media della combinazione migliore: %.3f' % grid_search_cv.best_score_)\n",
        "classifier = KNeighborsClassifier(**grid_search_cv.best_params_)\n",
        "print('Accuracy di cross validation: ', cv_score)\n",
        "\n",
        "\n",
        "classifier.fit(train_x, train_y)\n",
        "\n",
        "'''mahalanobisClassifier = KNeighborsClassifier(n_neighbors=9, algorithm='brute', metric='mahalanobis',metric_params={'V': np.cov(x)})\n",
        "mahalanobisClassifier.fit(train_x,train_y)'''\n"
      ],
      "execution_count": 583,
      "outputs": [
        {
          "output_type": "stream",
          "name": "stdout",
          "text": [
            "Combinazione migliore:\n",
            " {'metric': 'euclidean', 'n_neighbors': 7}\n",
            "Accuratezza media della combinazione migliore: 0.924\n",
            "Accuracy di cross validation:  [0.94736842 0.94736842 0.89473684 0.94736842 1.         1.\n",
            " 0.94444444 1.         1.         0.88888889 1.         0.94444444\n",
            " 1.         1.         0.94444444 1.         0.94444444 0.94444444\n",
            " 0.94444444 1.         1.         1.         1.         0.94444444\n",
            " 1.        ]\n"
          ]
        },
        {
          "output_type": "execute_result",
          "data": {
            "application/vnd.google.colaboratory.intrinsic+json": {
              "type": "string"
            },
            "text/plain": [
              "\"mahalanobisClassifier = KNeighborsClassifier(n_neighbors=9, algorithm='brute', metric='mahalanobis',metric_params={'V': np.cov(x)})\\nmahalanobisClassifier.fit(train_x,train_y)\""
            ]
          },
          "metadata": {},
          "execution_count": 583
        }
      ]
    },
    {
      "cell_type": "code",
      "metadata": {
        "colab": {
          "base_uri": "https://localhost:8080/",
          "height": 35
        },
        "id": "DtZzgq-q4CCU",
        "outputId": "990adfb6-7f39-4f63-b117-a5146555063b"
      },
      "source": [
        "pred_y_test = classifier.predict(test_x)\n",
        "pred_y_train = classifier.predict(train_x)\n",
        "'''pred_y_test_mahalanobis = mahalanobisClassifier.predict(test_x)\n",
        "pred_y_train_mahalanobis = mahalanobisClassifier.predict(train_x)'''"
      ],
      "execution_count": 584,
      "outputs": [
        {
          "output_type": "execute_result",
          "data": {
            "application/vnd.google.colaboratory.intrinsic+json": {
              "type": "string"
            },
            "text/plain": [
              "'pred_y_test_mahalanobis = mahalanobisClassifier.predict(test_x)\\npred_y_train_mahalanobis = mahalanobisClassifier.predict(train_x)'"
            ]
          },
          "metadata": {},
          "execution_count": 584
        }
      ]
    },
    {
      "cell_type": "code",
      "metadata": {
        "colab": {
          "base_uri": "https://localhost:8080/",
          "height": 587
        },
        "id": "qCAbtcLRF4m3",
        "outputId": "8e0e99b0-a1b9-47aa-b976-366c0b318017"
      },
      "source": [
        "print(metrics.classification_report(test_y,pred_y_test))\n",
        "print(metrics.classification_report(train_y, pred_y_train))\n",
        "\n",
        "'''print(metrics.classification_report(test_y,pred_y_test_mahalanobis))\n",
        "print(metrics.classification_report(train_y, pred_y_train_mahalanobis))'''\n",
        "\n",
        "mat = confusion_matrix(test_y, pred_y_test)\n",
        "sns.heatmap(mat.T, square=True, annot=True, fmt='d', cbar=False)"
      ],
      "execution_count": 585,
      "outputs": [
        {
          "output_type": "stream",
          "name": "stdout",
          "text": [
            "              precision    recall  f1-score   support\n",
            "\n",
            "           0       0.94      0.93      0.93        84\n",
            "           1       0.96      0.97      0.96       144\n",
            "\n",
            "    accuracy                           0.95       228\n",
            "   macro avg       0.95      0.95      0.95       228\n",
            "weighted avg       0.95      0.95      0.95       228\n",
            "\n",
            "              precision    recall  f1-score   support\n",
            "\n",
            "           0       0.93      0.88      0.91       128\n",
            "           1       0.93      0.96      0.95       213\n",
            "\n",
            "    accuracy                           0.93       341\n",
            "   macro avg       0.93      0.92      0.93       341\n",
            "weighted avg       0.93      0.93      0.93       341\n",
            "\n"
          ]
        },
        {
          "output_type": "execute_result",
          "data": {
            "text/plain": [
              "<matplotlib.axes._subplots.AxesSubplot at 0x7fdfe2a0f610>"
            ]
          },
          "metadata": {},
          "execution_count": 585
        },
        {
          "output_type": "display_data",
          "data": {
            "image/png": "[encoded data removed]",
            "text/plain": [
              "<Figure size 432x288 with 1 Axes>"
            ]
          },
          "metadata": {}
        }
      ]
    },
    {
      "cell_type": "code",
      "metadata": {
        "colab": {
          "base_uri": "https://localhost:8080/",
          "height": 153
        },
        "id": "xdSnrAsh44DS",
        "outputId": "2b7c9b83-fac5-4d3f-f23e-f857fb47581a"
      },
      "source": [
        "scaler = StandardScaler()\n",
        "scaler.fit(train_x)\n",
        "scaled_train_x = scaler.transform(train_x)\n",
        "scaled_test_x = scaler.transform(test_x)\n",
        "\n",
        "classifier =  KNeighborsClassifier()\n",
        "n_folds = 9\n",
        "param_grid = [{'n_neighbors' : [1,3,5,7,9], 'metric' : ['euclidean']},\n",
        "              {'n_neighbors' : [1,3,5,7,9], 'metric' : ['mahalanobis'],\n",
        "               'metric_params': [{'V': np.cov(train_x,rowvar=False)}]}]\n",
        "grid_search_cv = GridSearchCV(classifier, param_grid, cv=n_folds)\n",
        "grid_search_cv.fit(scaled_train_x,train_y)\n",
        "\n",
        "print('Combinazione migliore:\\n', grid_search_cv.best_params_)\n",
        "print('Accuratezza media della combinazione migliore: %.3f' % grid_search_cv.best_score_)\n",
        "classifier = KNeighborsClassifier(**grid_search_cv.best_params_)\n",
        "\n",
        "# Cross validation\n",
        "cv_score = cross_val_score(classifier, scaled_train_x, train_y, cv=n_folds)\n",
        "print('Accuracy di cross validation: ', cv_score)\n",
        "print('Accuracy media di cross validation: ', cv_score.mean())\n",
        "\n",
        "classifier.fit(scaled_train_x, train_y)\n",
        "\n",
        "'''mahalanobisClassifier = KNeighborsClassifier(n_neighbors=9, algorithm='brute', metric='mahalanobis',metric_params={'V': np.cov(scaled_train_x)})\n",
        "mahalanobisClassifier.fit(train_x,train_y)'''\n"
      ],
      "execution_count": 586,
      "outputs": [
        {
          "output_type": "stream",
          "name": "stdout",
          "text": [
            "Combinazione migliore:\n",
            " {'metric': 'euclidean', 'n_neighbors': 9}\n",
            "Accuratezza media della combinazione migliore: 0.968\n",
            "Accuracy di cross validation:  [0.97368421 0.97368421 0.97368421 0.92105263 0.97368421 1.\n",
            " 0.94736842 0.97368421 0.97297297]\n",
            "Accuracy media di cross validation:  0.9677572309151257\n"
          ]
        },
        {
          "output_type": "execute_result",
          "data": {
            "application/vnd.google.colaboratory.intrinsic+json": {
              "type": "string"
            },
            "text/plain": [
              "\"mahalanobisClassifier = KNeighborsClassifier(n_neighbors=9, algorithm='brute', metric='mahalanobis',metric_params={'V': np.cov(scaled_train_x)})\\nmahalanobisClassifier.fit(train_x,train_y)\""
            ]
          },
          "metadata": {},
          "execution_count": 586
        }
      ]
    },
    {
      "cell_type": "code",
      "metadata": {
        "colab": {
          "base_uri": "https://localhost:8080/",
          "height": 52
        },
        "id": "pWak2MfK99Ce",
        "outputId": "26ca0596-4574-43ab-b577-0b00c64ecf9f"
      },
      "source": [
        "pred_y_test_scaled = classifier.predict(scaled_test_x)\n",
        "pred_y_train_scaled = classifier.predict(scaled_train_x)\n",
        "'''pred_y_test_scaled_mahalanobis = mahalanobisClassifier.predict(scaled_test_x)\n",
        "pred_y_train_scaled_mahalanobis = mahalanobisClassifier.predict(scaled_train_x)'''"
      ],
      "execution_count": 587,
      "outputs": [
        {
          "output_type": "execute_result",
          "data": {
            "application/vnd.google.colaboratory.intrinsic+json": {
              "type": "string"
            },
            "text/plain": [
              "'pred_y_test_scaled_mahalanobis = mahalanobisClassifier.predict(scaled_test_x)\\npred_y_train_scaled_mahalanobis = mahalanobisClassifier.predict(scaled_train_x)'"
            ]
          },
          "metadata": {},
          "execution_count": 587
        }
      ]
    },
    {
      "cell_type": "code",
      "metadata": {
        "colab": {
          "base_uri": "https://localhost:8080/",
          "height": 587
        },
        "id": "g54u_JP13EYv",
        "outputId": "09e670b9-5ebb-48c8-e0c8-0343f9b6e66d"
      },
      "source": [
        "print(metrics.classification_report(test_y,pred_y_test_scaled))\n",
        "print(metrics.classification_report(train_y, pred_y_train_scaled))\n",
        "'''print(metrics.classification_report(test_y,pred_y_test_scaled_mahalanobis))\n",
        "print(metrics.classification_report(train_y, pred_y_train_scaled_mahalanobis))'''\n",
        "\n",
        "mat = confusion_matrix(test_y, pred_y_test_scaled)\n",
        "sns.heatmap(mat.T, square=True, annot=True, fmt='d', cbar=False)"
      ],
      "execution_count": 588,
      "outputs": [
        {
          "output_type": "stream",
          "name": "stdout",
          "text": [
            "              precision    recall  f1-score   support\n",
            "\n",
            "           0       0.98      0.98      0.98        84\n",
            "           1       0.99      0.99      0.99       144\n",
            "\n",
            "    accuracy                           0.98       228\n",
            "   macro avg       0.98      0.98      0.98       228\n",
            "weighted avg       0.98      0.98      0.98       228\n",
            "\n",
            "              precision    recall  f1-score   support\n",
            "\n",
            "           0       0.99      0.93      0.96       128\n",
            "           1       0.96      1.00      0.98       213\n",
            "\n",
            "    accuracy                           0.97       341\n",
            "   macro avg       0.98      0.96      0.97       341\n",
            "weighted avg       0.97      0.97      0.97       341\n",
            "\n"
          ]
        },
        {
          "output_type": "execute_result",
          "data": {
            "text/plain": [
              "<matplotlib.axes._subplots.AxesSubplot at 0x7fdfe29165d0>"
            ]
          },
          "metadata": {},
          "execution_count": 588
        },
        {
          "output_type": "display_data",
          "data": {
            "image/png": "[encoded data removed]",
            "text/plain": [
              "<Figure size 432x288 with 1 Axes>"
            ]
          },
          "metadata": {}
        }
      ]
    }
  ]
}