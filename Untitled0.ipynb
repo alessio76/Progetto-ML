{
  "nbformat": 4,
  "nbformat_minor": 0,
  "metadata": {
    "colab": {
      "name": "Untitled0.ipynb",
      "provenance": [],
      "collapsed_sections": [],
      "authorship_tag": "ABX9TyN21ZHckScrMFtHDNumZ35/",
      "include_colab_link": true
    },
    "kernelspec": {
      "name": "python3",
      "display_name": "Python 3"
    },
    "language_info": {
      "name": "python"
    }
  },
  "cells": [
    {
      "cell_type": "markdown",
      "metadata": {
        "id": "view-in-github",
        "colab_type": "text"
      },
      "source": [
        "<a href=\"https://colab.research.google.com/github/alessio76/Progetto-ML/blob/main/Untitled0.ipynb\" target=\"_parent\"><img src=\"https://colab.research.google.com/assets/colab-badge.svg\" alt=\"Open In Colab\"/></a>"
      ]
    },
    {
      "cell_type": "code",
      "metadata": {
        "id": "0LW9CytfsYxL"
      },
      "source": [
        "# Moduli di scikit-learn\n",
        "from sklearn.neighbors import KNeighborsClassifier\n",
        "from sklearn.model_selection import cross_val_score, GridSearchCV, ParameterGrid, train_test_split\n",
        "from sklearn.datasets import load_breast_cancer\n",
        "from sklearn.neighbors import DistanceMetric\n",
        "from sklearn import metrics\n",
        "from sklearn.preprocessing import StandardScaler, MinMaxScaler, MaxAbsScaler\n",
        "from sklearn.metrics import confusion_matrix\n",
        "from sklearn.decomposition import PCA\n",
        "import numpy as np\n",
        "from numpy import linalg as la\n",
        "from sklearn import metrics\n",
        "import matplotlib.pyplot as plt\n",
        "import seaborn as sns; sns.set()\n",
        "\n"
      ],
      "execution_count": 99,
      "outputs": []
    },
    {
      "cell_type": "code",
      "metadata": {
        "id": "xkCbtunaurl5"
      },
      "source": [
        "#dataset è un dizionario\n",
        "dataset = load_breast_cancer()\n",
        "x,y = dataset[\"data\"], dataset[\"target\"]\n",
        "train_x, test_x, train_y, test_y = train_test_split(x, y, test_size=.4, random_state=1)"
      ],
      "execution_count": 87,
      "outputs": []
    },
    {
      "cell_type": "code",
      "metadata": {
        "colab": {
          "base_uri": "https://localhost:8080/",
          "height": 86
        },
        "id": "UkrI8KztyvyQ",
        "outputId": "4d504c65-eb20-4466-a4c4-90f3668c014f"
      },
      "source": [
        "classifier =  KNeighborsClassifier()\n",
        "n_folds = 9\n",
        "param_grid = [{'n_neighbors' : [1,3,5,7,9], 'metric' : ['euclidean']},\n",
        "              {'n_neighbors' : [1,3,5,7,9], 'metric' : ['mahalanobis'],\n",
        "               'metric_params': [{'V': np.cov(train_x,rowvar=False)}]}]\n",
        "grid_search_cv = GridSearchCV(classifier, param_grid, cv=n_folds)\n",
        "grid_search_cv.fit(train_x,train_y)\n",
        "\n",
        "print('Combinazione migliore:\\n', grid_search_cv.best_params_)\n",
        "print('Accuratezza media della combinazione migliore: %.3f' % grid_search_cv.best_score_)\n",
        "classifier = KNeighborsClassifier(**grid_search_cv.best_params_)\n",
        "\n",
        "\n",
        "\n",
        "classifier.fit(train_x, train_y)\n",
        "\n",
        "'''mahalanobisClassifier = KNeighborsClassifier(n_neighbors=9, algorithm='brute', metric='mahalanobis',metric_params={'V': np.cov(x)})\n",
        "mahalanobisClassifier.fit(train_x,train_y)'''\n"
      ],
      "execution_count": 5,
      "outputs": [
        {
          "output_type": "stream",
          "name": "stdout",
          "text": [
            "Combinazione migliore:\n",
            " {'metric': 'euclidean', 'n_neighbors': 9}\n",
            "Accuratezza media della combinazione migliore: 0.930\n"
          ]
        },
        {
          "output_type": "execute_result",
          "data": {
            "application/vnd.google.colaboratory.intrinsic+json": {
              "type": "string"
            },
            "text/plain": [
              "\"mahalanobisClassifier = KNeighborsClassifier(n_neighbors=9, algorithm='brute', metric='mahalanobis',metric_params={'V': np.cov(x)})\\nmahalanobisClassifier.fit(train_x,train_y)\""
            ]
          },
          "metadata": {},
          "execution_count": 5
        }
      ]
    },
    {
      "cell_type": "code",
      "metadata": {
        "colab": {
          "base_uri": "https://localhost:8080/",
          "height": 35
        },
        "id": "DtZzgq-q4CCU",
        "outputId": "29a8b6f7-0970-4a72-8e55-fbec1b140eec"
      },
      "source": [
        "pred_y_test = classifier.predict(test_x)\n",
        "pred_y_train = classifier.predict(train_x)\n",
        "'''pred_y_test_mahalanobis = mahalanobisClassifier.predict(test_x)\n",
        "pred_y_train_mahalanobis = mahalanobisClassifier.predict(train_x)'''"
      ],
      "execution_count": 6,
      "outputs": [
        {
          "output_type": "execute_result",
          "data": {
            "application/vnd.google.colaboratory.intrinsic+json": {
              "type": "string"
            },
            "text/plain": [
              "'pred_y_test_mahalanobis = mahalanobisClassifier.predict(test_x)\\npred_y_train_mahalanobis = mahalanobisClassifier.predict(train_x)'"
            ]
          },
          "metadata": {},
          "execution_count": 6
        }
      ]
    },
    {
      "cell_type": "code",
      "metadata": {
        "colab": {
          "base_uri": "https://localhost:8080/",
          "height": 587
        },
        "id": "qCAbtcLRF4m3",
        "outputId": "934a4565-5897-48f3-8b3a-8dbd492fc865"
      },
      "source": [
        "print(metrics.classification_report(test_y,pred_y_test))\n",
        "print(metrics.classification_report(train_y, pred_y_train))\n",
        "\n",
        "'''print(metrics.classification_report(test_y,pred_y_test_mahalanobis))\n",
        "print(metrics.classification_report(train_y, pred_y_train_mahalanobis))'''\n",
        "\n",
        "mat = confusion_matrix(test_y, pred_y_test)\n",
        "sns.heatmap(mat.T, square=True, annot=True, fmt='d', cbar=False)"
      ],
      "execution_count": 7,
      "outputs": [
        {
          "output_type": "stream",
          "name": "stdout",
          "text": [
            "              precision    recall  f1-score   support\n",
            "\n",
            "           0       0.91      0.90      0.91        80\n",
            "           1       0.95      0.95      0.95       148\n",
            "\n",
            "    accuracy                           0.93       228\n",
            "   macro avg       0.93      0.93      0.93       228\n",
            "weighted avg       0.93      0.93      0.93       228\n",
            "\n",
            "              precision    recall  f1-score   support\n",
            "\n",
            "           0       0.95      0.89      0.92       132\n",
            "           1       0.94      0.97      0.95       209\n",
            "\n",
            "    accuracy                           0.94       341\n",
            "   macro avg       0.94      0.93      0.94       341\n",
            "weighted avg       0.94      0.94      0.94       341\n",
            "\n"
          ]
        },
        {
          "output_type": "execute_result",
          "data": {
            "text/plain": [
              "<matplotlib.axes._subplots.AxesSubplot at 0x7f5d5bbc1e10>"
            ]
          },
          "metadata": {},
          "execution_count": 7
        },
        {
          "output_type": "display_data",
          "data": {
            "image/png": "[encoded data removed]",
            "text/plain": [
              "<Figure size 432x288 with 1 Axes>"
            ]
          },
          "metadata": {}
        }
      ]
    },
    {
      "cell_type": "code",
      "metadata": {
        "id": "UnM-RgVO3I2w"
      },
      "source": [
        "scaler = StandardScaler()\n",
        "scaler.fit(train_x)\n",
        "scaled_train_x = scaler.transform(train_x)\n",
        "scaled_test_x = scaler.transform(test_x)\n"
      ],
      "execution_count": 103,
      "outputs": []
    },
    {
      "cell_type": "code",
      "metadata": {
        "colab": {
          "base_uri": "https://localhost:8080/",
          "height": 153
        },
        "id": "xdSnrAsh44DS",
        "outputId": "447df21f-9f24-4aa3-e879-136d385c2a86"
      },
      "source": [
        "\n",
        "classifier =  KNeighborsClassifier()\n",
        "n_folds = 9\n",
        "param_grid = [{'n_neighbors' : [1,3,5,7,9], 'metric' : ['euclidean']},\n",
        "              {'n_neighbors' : [1,3,5,7,9], 'metric' : ['mahalanobis'],\n",
        "               'metric_params': [{'V': np.cov(train_x,rowvar=False)}]}]\n",
        "grid_search_cv = GridSearchCV(classifier, param_grid, cv=n_folds)\n",
        "grid_search_cv.fit(scaled_train_x,train_y)\n",
        "\n",
        "print('Combinazione migliore:\\n', grid_search_cv.best_params_)\n",
        "print('Accuratezza media della combinazione migliore: %.3f' % grid_search_cv.best_score_)\n",
        "classifier = KNeighborsClassifier(**grid_search_cv.best_params_)\n",
        "\n",
        "# Cross validation\n",
        "cv_score = cross_val_score(classifier, scaled_train_x, train_y, cv=n_folds)\n",
        "print('Accuracy di cross validation: ', cv_score)\n",
        "print('Accuracy media di cross validation: ', cv_score.mean())\n",
        "\n",
        "classifier.fit(scaled_train_x, train_y)\n",
        "\n",
        "'''mahalanobisClassifier = KNeighborsClassifier(n_neighbors=9, algorithm='brute', metric='mahalanobis',metric_params={'V': np.cov(scaled_train_x)})\n",
        "mahalanobisClassifier.fit(train_x,train_y)'''\n"
      ],
      "execution_count": 8,
      "outputs": [
        {
          "output_type": "stream",
          "name": "stdout",
          "text": [
            "Combinazione migliore:\n",
            " {'metric': 'euclidean', 'n_neighbors': 3}\n",
            "Accuratezza media della combinazione migliore: 0.968\n",
            "Accuracy di cross validation:  [0.92105263 0.92105263 1.         0.97368421 0.94736842 1.\n",
            " 0.97368421 0.97368421 1.        ]\n",
            "Accuracy media di cross validation:  0.9678362573099414\n"
          ]
        },
        {
          "output_type": "execute_result",
          "data": {
            "application/vnd.google.colaboratory.intrinsic+json": {
              "type": "string"
            },
            "text/plain": [
              "\"mahalanobisClassifier = KNeighborsClassifier(n_neighbors=9, algorithm='brute', metric='mahalanobis',metric_params={'V': np.cov(scaled_train_x)})\\nmahalanobisClassifier.fit(train_x,train_y)\""
            ]
          },
          "metadata": {},
          "execution_count": 8
        }
      ]
    },
    {
      "cell_type": "code",
      "metadata": {
        "colab": {
          "base_uri": "https://localhost:8080/",
          "height": 35
        },
        "id": "pWak2MfK99Ce",
        "outputId": "180bdedf-145d-4f24-ea35-c3c998dc74da"
      },
      "source": [
        "pred_y_test_scaled = classifier.predict(scaled_test_x)\n",
        "pred_y_train_scaled = classifier.predict(scaled_train_x)\n",
        "'''pred_y_test_scaled_mahalanobis = mahalanobisClassifier.predict(scaled_test_x)\n",
        "pred_y_train_scaled_mahalanobis = mahalanobisClassifier.predict(scaled_train_x)'''"
      ],
      "execution_count": 9,
      "outputs": [
        {
          "output_type": "execute_result",
          "data": {
            "application/vnd.google.colaboratory.intrinsic+json": {
              "type": "string"
            },
            "text/plain": [
              "'pred_y_test_scaled_mahalanobis = mahalanobisClassifier.predict(scaled_test_x)\\npred_y_train_scaled_mahalanobis = mahalanobisClassifier.predict(scaled_train_x)'"
            ]
          },
          "metadata": {},
          "execution_count": 9
        }
      ]
    },
    {
      "cell_type": "code",
      "metadata": {
        "colab": {
          "base_uri": "https://localhost:8080/",
          "height": 587
        },
        "id": "g54u_JP13EYv",
        "outputId": "c6b77efe-547c-4712-d8f0-1412a9f91e4e"
      },
      "source": [
        "print(metrics.classification_report(test_y,pred_y_test_scaled))\n",
        "print(metrics.classification_report(train_y, pred_y_train_scaled))\n",
        "'''print(metrics.classification_report(test_y,pred_y_test_scaled_mahalanobis))\n",
        "print(metrics.classification_report(train_y, pred_y_train_scaled_mahalanobis))'''\n",
        "\n",
        "mat = confusion_matrix(test_y, pred_y_test_scaled)\n",
        "sns.heatmap(mat.T, square=True, annot=True, fmt='d', cbar=False)"
      ],
      "execution_count": 10,
      "outputs": [
        {
          "output_type": "stream",
          "name": "stdout",
          "text": [
            "              precision    recall  f1-score   support\n",
            "\n",
            "           0       0.95      0.91      0.93        80\n",
            "           1       0.95      0.97      0.96       148\n",
            "\n",
            "    accuracy                           0.95       228\n",
            "   macro avg       0.95      0.94      0.95       228\n",
            "weighted avg       0.95      0.95      0.95       228\n",
            "\n",
            "              precision    recall  f1-score   support\n",
            "\n",
            "           0       0.98      0.96      0.97       132\n",
            "           1       0.98      0.99      0.98       209\n",
            "\n",
            "    accuracy                           0.98       341\n",
            "   macro avg       0.98      0.98      0.98       341\n",
            "weighted avg       0.98      0.98      0.98       341\n",
            "\n"
          ]
        },
        {
          "output_type": "execute_result",
          "data": {
            "text/plain": [
              "<matplotlib.axes._subplots.AxesSubplot at 0x7f5d5bb40b90>"
            ]
          },
          "metadata": {},
          "execution_count": 10
        },
        {
          "output_type": "display_data",
          "data": {
            "image/png": "[encoded data removed]",
            "text/plain": [
              "<Figure size 432x288 with 1 Axes>"
            ]
          },
          "metadata": {}
        }
      ]
    },
    {
      "cell_type": "code",
      "metadata": {
        "colab": {
          "base_uri": "https://localhost:8080/"
        },
        "id": "332LYZ8ou1eR",
        "outputId": "2b7c28d4-bd0b-4696-b8bb-90704cbbea62"
      },
      "source": [
        "sigma = np.cov(np.transpose(scaled_train_x))\n",
        "w,v = la.eig(sigma)\n",
        "w.sort()\n",
        "i = 29\n",
        "max_sum = sum(w)\n",
        "current_sum = w[29]\n",
        "ratio = current_sum/max_sum\n",
        "\n",
        "while(ratio <.95):\n",
        "  print(ratio,w[i:],i,'\\n')\n",
        "  current_sum = sum(w[i:])\n",
        "  ratio = current_sum/max_sum\n",
        "  i = i-1\n",
        "  \n",
        "\n",
        "pca = PCA(i)\n",
        "reduced_train_x = pca.fit_transform(scaled_train_x)\n",
        "print(reduced_train_x.shape,max_sum, current_sum, i)\n"
      ],
      "execution_count": 130,
      "outputs": [
        {
          "output_type": "stream",
          "name": "stdout",
          "text": [
            "0.44722202168078096 [13.45612142] 29 \n",
            "\n",
            "0.44722202168078096 [ 5.51170877 13.45612142] 28 \n",
            "\n",
            "0.6304068684862126 [ 2.98128495  5.51170877 13.45612142] 27 \n",
            "\n",
            "0.7294916077228158 [ 2.02732797  2.98128495  5.51170877 13.45612142] 26 \n",
            "\n",
            "0.7968710320264467 [ 1.61715222  2.02732797  2.98128495  5.51170877 13.45612142] 25 \n",
            "\n",
            "0.8506180267802771 [ 1.18420099  1.61715222  2.02732797  2.98128495  5.51170877 13.45612142] 24 \n",
            "\n",
            "0.8899756355233632 [ 0.69475394  1.18420099  1.61715222  2.02732797  2.98128495  5.51170877\n",
            " 13.45612142] 23 \n",
            "\n",
            "0.9130661867633284 [ 0.47080897  0.69475394  1.18420099  1.61715222  2.02732797  2.98128495\n",
            "  5.51170877 13.45612142] 22 \n",
            "\n",
            "0.9287137965525526 [ 0.42065675  0.47080897  0.69475394  1.18420099  1.61715222  2.02732797\n",
            "  2.98128495  5.51170877 13.45612142] 21 \n",
            "\n",
            "0.9426945683459902 [ 0.331726    0.42065675  0.47080897  0.69475394  1.18420099  1.61715222\n",
            "  2.02732797  2.98128495  5.51170877 13.45612142] 20 \n",
            "\n",
            "(341, 19) 30.08823529411768 28.695741980912366 19\n"
          ]
        }
      ]
    },
    {
      "cell_type": "code",
      "metadata": {
        "colab": {
          "base_uri": "https://localhost:8080/"
        },
        "id": "OmmHYSVNu8lz",
        "outputId": "29e93f4a-d039-4300-b2bd-5bdc54ba2940"
      },
      "source": [
        "classifier =  KNeighborsClassifier()\n",
        "n_folds = 9\n",
        "param_grid = [{'n_neighbors' : [1,3,5,7,9], 'metric' : ['euclidean']},\n",
        "              {'n_neighbors' : [1,3,5,7,9], 'metric' : ['mahalanobis'],\n",
        "               'metric_params': [{'V': np.cov(np.transpose(reduced_train_x))}]}]\n",
        "grid_search_cv = GridSearchCV(classifier, param_grid, cv=n_folds)\n",
        "grid_search_cv.fit(reduced_train_x,train_y)\n",
        "\n",
        "print('Combinazione migliore:\\n', grid_search_cv.best_params_)\n",
        "print('Accuratezza media della combinazione migliore: %.3f' % grid_search_cv.best_score_)\n",
        "classifier = KNeighborsClassifier(**grid_search_cv.best_params_)\n",
        "\n",
        "# Cross validation\n",
        "cv_score = cross_val_score(classifier, reduced_train_x, train_y, cv=n_folds)\n",
        "print('Accuracy di cross validation: ', cv_score)\n",
        "print('Accuracy media di cross validation: ', cv_score.mean())\n",
        "\n",
        "classifier.fit(reduced_train_x, train_y)\n"
      ],
      "execution_count": 93,
      "outputs": [
        {
          "output_type": "stream",
          "name": "stdout",
          "text": [
            "Combinazione migliore:\n",
            " {'metric': 'mahalanobis', 'metric_params': {'V': array([[510296.24548115,  -3223.77478692],\n",
            "       [ -3223.77478692,   8614.52650334]])}, 'n_neighbors': 9}\n",
            "Accuratezza media della combinazione migliore: 0.927\n",
            "Accuracy di cross validation:  [0.86842105 0.92105263 0.94736842 0.86842105 0.94736842 0.97368421\n",
            " 0.94736842 0.94736842 0.91891892]\n",
            "Accuracy media di cross validation:  0.9266635056108741\n"
          ]
        },
        {
          "output_type": "execute_result",
          "data": {
            "text/plain": [
              "KNeighborsClassifier(algorithm='auto', leaf_size=30, metric='mahalanobis',\n",
              "                     metric_params={'V': array([[510296.24548115,  -3223.77478692],\n",
              "       [ -3223.77478692,   8614.52650334]])},\n",
              "                     n_jobs=None, n_neighbors=9, p=2, weights='uniform')"
            ]
          },
          "metadata": {},
          "execution_count": 93
        }
      ]
    },
    {
      "cell_type": "code",
      "metadata": {
        "colab": {
          "base_uri": "https://localhost:8080/",
          "height": 486
        },
        "id": "PBdBKqekyicB",
        "outputId": "35c75adb-b4b1-462c-9158-b334f0040f0e"
      },
      "source": [
        "fig = plt.figure(figsize = (8,8))\n",
        "plt.scatter(reduced_x[:, 0], reduced_x[:, 1], s=50, cmap='rainbow')\n",
        "plt.show()"
      ],
      "execution_count": 101,
      "outputs": [
        {
          "output_type": "display_data",
          "data": {
            "image/png": "[encoded data removed]",
            "text/plain": [
              "<Figure size 576x576 with 1 Axes>"
            ]
          },
          "metadata": {}
        }
      ]
    },
    {
      "cell_type": "code",
      "metadata": {
        "id": "NE3CFZTQwNDX"
      },
      "source": [
        ""
      ],
      "execution_count": null,
      "outputs": []
    }
  ]
}