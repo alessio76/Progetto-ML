{
  "nbformat": 4,
  "nbformat_minor": 0,
  "metadata": {
    "colab": {
      "name": "Regression.ipynb",
      "provenance": [],
      "collapsed_sections": [],
      "authorship_tag": "ABX9TyO77WuLz1ozGgqmd/CRYy2D",
      "include_colab_link": true
    },
    "kernelspec": {
      "name": "python3",
      "display_name": "Python 3"
    },
    "language_info": {
      "name": "python"
    }
  },
  "cells": [
    {
      "cell_type": "markdown",
      "metadata": {
        "id": "view-in-github",
        "colab_type": "text"
      },
      "source": [
        "<a href=\"https://colab.research.google.com/github/alessio76/Progetto-ML/blob/main/Regression.ipynb\" target=\"_parent\"><img src=\"https://colab.research.google.com/assets/colab-badge.svg\" alt=\"Open In Colab\"/></a>"
      ]
    },
    {
      "cell_type": "code",
      "metadata": {
        "id": "4KjkYt6DKatI"
      },
      "source": [
        "import matplotlib.pyplot as plt\n",
        "from sklearn.pipeline import make_pipeline\n",
        "from sklearn.datasets import load_diabetes\n",
        "from sklearn.preprocessing import StandardScaler, MinMaxScaler, MaxAbsScaler\n",
        "import seaborn as sns; sns.set()\n",
        "from sklearn.ensemble import RandomForestRegressor\n",
        "from sklearn.model_selection import  GridSearchCV, ParameterGrid, train_test_split\n",
        "import numpy as np\n",
        "from sklearn.metrics import mean_squared_error, make_scorer\n",
        "from sklearn.linear_model import LinearRegression\n",
        "from sklearn.linear_model import Ridge\n",
        "from sklearn.linear_model import Lasso\n",
        "from sklearn.preprocessing import PolynomialFeatures\n",
        "from sklearn.base import BaseEstimator, TransformerMixin"
      ],
      "execution_count": null,
      "outputs": []
    },
    {
      "cell_type": "code",
      "metadata": {
        "id": "qKaqWZ4Gp5oj",
        "colab": {
          "base_uri": "https://localhost:8080/",
          "height": 285
        },
        "outputId": "ca8b9eea-86e9-4014-dc89-4049ece9624a"
      },
      "source": [
        "x,y = load_diabetes()[\"data\"], load_diabetes()[\"target\"]\n",
        "train_x, test_x, train_y, test_y = train_test_split(x, y, test_size=.2, random_state=1)\n",
        "plt.scatter(x[:,6], y)"
      ],
      "execution_count": null,
      "outputs": [
        {
          "output_type": "execute_result",
          "data": {
            "text/plain": [
              "<matplotlib.collections.PathCollection at 0x7fe4a8b66450>"
            ]
          },
          "metadata": {},
          "execution_count": 81
        },
        {
          "output_type": "display_data",
          "data": {
            "image/png": "[encoded data removed]",
            "text/plain": [
              "<Figure size 432x288 with 1 Axes>"
            ]
          },
          "metadata": {}
        }
      ]
    },
    {
      "cell_type": "code",
      "metadata": {
        "id": "JhvpYbhmqKYE"
      },
      "source": [
        "#overfitting già per i = 3, è meglio quello di grado 1\n",
        "def grid_search(training_set, param_grid, n_folds, training_labels, first_transformer, second_transformer, score_method): \n",
        " \n",
        " test_regressor = make_pipeline(first_transformer, second_transformer)\n",
        " grid_search_cv = GridSearchCV(test_regressor, param_grid, scoring = score_method)\n",
        " grid_search_cv.fit(training_set,training_labels)\n",
        " print('Combinazione migliore:\\n', grid_search_cv.best_params_)\n",
        " print('Accuratezza media della combinazione migliore: %.3f' % grid_search_cv.best_score_)\n",
        " regressor = test_regressor.set_params(**grid_search_cv.best_params_)\n",
        " regressor.fit(training_set, training_labels)\n",
        " return regressor"
      ],
      "execution_count": null,
      "outputs": []
    },
    {
      "cell_type": "code",
      "metadata": {
        "id": "pCtZZL04X5kQ"
      },
      "source": [
        "def scoring(training_set, test_set, trainig_labels, test_labels,model):\n",
        " y_pred = model.predict(training_set)\n",
        " print(np.sqrt(mean_squared_error(train_y, y_pred)), model.score(training_set, trainig_labels))\n",
        " y_pred = model.predict(test_set)\n",
        " print(np.sqrt(mean_squared_error(test_y, y_pred)), model.score(test_set, test_labels))"
      ],
      "execution_count": null,
      "outputs": []
    },
    {
      "cell_type": "code",
      "metadata": {
        "colab": {
          "base_uri": "https://localhost:8080/"
        },
        "id": "eaCxtfZFG00d",
        "outputId": "511596ab-0048-41a2-f1da-4160d32cc58f"
      },
      "source": [
        "class GaussianFeatures(BaseEstimator, TransformerMixin):\n",
        "  \n",
        "    def __init__(self, N = None, width_factor=2.0, centers_ = None):\n",
        "        self.N = N\n",
        "        self.width_factor = width_factor\n",
        "        self.centers_ = centers_\n",
        "    \n",
        "    @staticmethod\n",
        "    def _gauss_basis(x, y, width, axis=None):\n",
        "        arg = (x - y) / width\n",
        "        return np.exp(-0.5 * np.sum(arg ** 2, axis))\n",
        "        \n",
        "    def fit(self, X, y):\n",
        "        # create N centers spread along the data range\n",
        "        self.centers_ = np.linspace(X.min(), X.max(), self.N)\n",
        "        self.width_ = self.width_factor * (self.centers_[1] - self.centers_[0])\n",
        "        return self\n",
        "        \n",
        "    def transform(self, X):\n",
        "        return self._gauss_basis(X[:, :, np.newaxis], self.centers_, self.width_, axis=1)\n",
        "                \n",
        "param_grid = {'gaussianfeatures__N' : list(range(2,30))}\n",
        "gauss_model = grid_search(train_x, param_grid, 5, train_y, GaussianFeatures(), LinearRegression() , 'neg_root_mean_squared_error')\n",
        "param_grid = {'lasso__alpha' : list(np.logspace(-2, 3, 30))}\n",
        "lasso_gauss_model = grid_search(train_x, param_grid, 5, train_y, gauss_model.named_steps[\"gaussianfeatures\"], Lasso(normalize= True) , 'neg_root_mean_squared_error')\n",
        "gauss_model.fit(train_x, train_y) \n",
        "scoring(train_x, test_x, train_y, test_y, gauss_model)\n",
        "print(gauss_model.named_steps)"
      ],
      "execution_count": null,
      "outputs": [
        {
          "output_type": "stream",
          "name": "stdout",
          "text": [
            "Combinazione migliore:\n",
            " {'gaussianfeatures__N': 4}\n",
            "Accuratezza media della combinazione migliore: -68.057\n",
            "Combinazione migliore:\n",
            " {'lasso__alpha': 0.04893900918477494}\n",
            "Accuratezza media della combinazione migliore: -67.950\n",
            "67.0471333353812 0.2598732162566537\n",
            "62.8257148929287 0.2593183662358878\n",
            "{'gaussianfeatures': GaussianFeatures(N=4,\n",
            "                 centers_=array([-0.13776723, -0.02558215,  0.08660292,  0.19878799]),\n",
            "                 width_factor=2.0), 'linearregression': LinearRegression(copy_X=True, fit_intercept=True, n_jobs=None, normalize=False)}\n"
          ]
        }
      ]
    },
    {
      "cell_type": "code",
      "metadata": {
        "colab": {
          "base_uri": "https://localhost:8080/"
        },
        "id": "SuHOf5vEGFQ3",
        "outputId": "b73afd84-2174-44c4-8d1d-47e74cd86343"
      },
      "source": [
        "param_grid = {'gaussianfeatures__N' : list(range(2,30))}\n",
        "gauss_model = grid_search(train_x, param_grid, 5, train_y, GaussianFeatures(), LinearRegression() , 'neg_root_mean_squared_error')\n",
        "param_grid = {'ridge__alpha' : list(np.logspace(-2, 3, 30))}\n",
        "lasso_gauss_model = grid_search(train_x, param_grid, 5, train_y, gauss_model.named_steps[\"gaussianfeatures\"], Ridge(normalize= True) , 'neg_root_mean_squared_error')\n",
        "gauss_model.fit(train_x, train_y) \n",
        "scoring(train_x, test_x, train_y, test_y, gauss_model)\n",
        "print(gauss_model.named_steps)"
      ],
      "execution_count": null,
      "outputs": [
        {
          "output_type": "stream",
          "name": "stdout",
          "text": [
            "Combinazione migliore:\n",
            " {'gaussianfeatures__N': 4}\n",
            "Accuratezza media della combinazione migliore: -68.057\n",
            "Combinazione migliore:\n",
            " {'ridge__alpha': 0.01}\n",
            "Accuratezza media della combinazione migliore: -68.007\n",
            "67.0471333353812 0.2598732162566537\n",
            "62.8257148929287 0.2593183662358878\n",
            "74.54500760664473 0.08508063529456122\n",
            "46996.45473106322 -414463.0746100788\n",
            "77.93403343880536 0.0\n",
            "73.26046048581938 -0.007154241099143865\n",
            "77.93263346114367 3.592692500509198e-05\n",
            "73.25642101670869 -0.00704317828960499\n",
            "{'gaussianfeatures': GaussianFeatures(N=4,\n",
            "                 centers_=array([-0.13776723, -0.02558215,  0.08660292,  0.19878799]),\n",
            "                 width_factor=2.0), 'linearregression': LinearRegression(copy_X=True, fit_intercept=True, n_jobs=None, normalize=False)}\n"
          ]
        }
      ]
    },
    {
      "cell_type": "code",
      "metadata": {
        "colab": {
          "base_uri": "https://localhost:8080/"
        },
        "id": "1WpgnDIsy6QT",
        "outputId": "922e01ee-94e4-4ca7-8baa-adfb5b975e13"
      },
      "source": [
        "#baseline\n",
        "baseline_regressor = LinearRegression(normalize = True)\n",
        "baseline_regressor.fit(train_x, train_y)\n",
        "scoring(train_x, test_x, train_y, test_y, baseline_regressor)"
      ],
      "execution_count": null,
      "outputs": [
        {
          "output_type": "stream",
          "name": "stdout",
          "text": [
            "53.245051658083455 0.533228642689112\n",
            "54.704274800539544 0.4384360401733268\n"
          ]
        }
      ]
    },
    {
      "cell_type": "code",
      "metadata": {
        "colab": {
          "base_uri": "https://localhost:8080/"
        },
        "id": "quzrfWUPPNXW",
        "outputId": "5f17ce2a-11f6-4191-ca4d-f4d0a0ac521e"
      },
      "source": [
        "param_grid = {'polynomialfeatures__degree' : list(range(2,7))}\n",
        "regressor = grid_search(train_x,param_grid, 5, train_y, PolynomialFeatures(), LinearRegression(normalize = True), 'neg_root_mean_squared_error')\n",
        "param_grid = {'ridge__alpha' : list(np.logspace(-2, 3, num = 30, base = 10))}\n",
        "regressor = grid_search(train_x,param_grid, 5, train_y, regressor.named_steps[\"polynomialfeatures\"], Ridge(normalize = True), 'neg_root_mean_squared_error')\n",
        "scoring(train_x, test_x, train_y, test_y, regressor)"
      ],
      "execution_count": null,
      "outputs": [
        {
          "output_type": "stream",
          "name": "stdout",
          "text": [
            "Combinazione migliore:\n",
            " {'polynomialfeatures__degree': 2}\n",
            "Accuratezza media della combinazione migliore: -63.651\n",
            "Combinazione migliore:\n",
            " {'ridge__alpha': 0.16102620275609392}\n",
            "Accuratezza media della combinazione migliore: -54.934\n",
            "49.21397850945439 0.6012298483297926\n",
            "59.90076046853398 0.32668022504402583\n"
          ]
        }
      ]
    },
    {
      "cell_type": "code",
      "metadata": {
        "colab": {
          "base_uri": "https://localhost:8080/"
        },
        "id": "zyhbI_TaqhcX",
        "outputId": "57a122eb-c555-4794-fcb7-ead84ccd7602"
      },
      "source": [
        "param_grid = {'ridge__alpha' : list(np.logspace(-2, 3, 30))}\n",
        "model = grid_search(train_x,param_grid, 5, train_y, None, Ridge(normalize = True, random_state = 0), 'neg_root_mean_squared_error')\n",
        "scoring(train_x, test_x, train_y, test_y, model)"
      ],
      "execution_count": null,
      "outputs": [
        {
          "output_type": "stream",
          "name": "stdout",
          "text": [
            "Combinazione migliore:\n",
            " {'ridge__alpha': 0.10826367338740546}\n",
            "Accuratezza media della combinazione migliore: -55.216\n",
            "53.47769993970167 0.5291407211085754\n",
            "54.99750185733248 0.4323996903552376\n"
          ]
        }
      ]
    },
    {
      "cell_type": "code",
      "metadata": {
        "colab": {
          "base_uri": "https://localhost:8080/"
        },
        "id": "fbU0SNg3TtsN",
        "outputId": "8a36a13a-4e45-49e2-85e8-00d6d6d38cd0"
      },
      "source": [
        "param_grid = {'lasso__alpha' : list(np.logspace(-2, 3, 30))}\n",
        "model2 = grid_search(train_x,param_grid, 5, train_y, None, Lasso(normalize = True, random_state = 0), 'neg_root_mean_squared_error')\n",
        "scoring(train_x, test_x, train_y, test_y, model2)"
      ],
      "execution_count": null,
      "outputs": [
        {
          "output_type": "stream",
          "name": "stdout",
          "text": [
            "Combinazione migliore:\n",
            " {'lasso__alpha': 0.04893900918477494}\n",
            "Accuratezza media della combinazione migliore: -55.286\n",
            "53.41028307172585 0.5303271539158122\n",
            "55.011234645742576 0.4321161971834744\n"
          ]
        }
      ]
    },
    {
      "cell_type": "code",
      "metadata": {
        "id": "rl6DBGNMVa6g"
      },
      "source": [
        ""
      ],
      "execution_count": null,
      "outputs": []
    }
  ]
}