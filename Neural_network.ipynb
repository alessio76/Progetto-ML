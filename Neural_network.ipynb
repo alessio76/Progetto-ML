{
  "nbformat": 4,
  "nbformat_minor": 0,
  "metadata": {
    "colab": {
      "name": "Neural_network.ipynb",
      "provenance": [],
      "collapsed_sections": [],
      "authorship_tag": "ABX9TyNBjOmmRc+6Qdo13OZtOul9",
      "include_colab_link": true
    },
    "kernelspec": {
      "name": "python3",
      "display_name": "Python 3"
    },
    "language_info": {
      "name": "python"
    }
  },
  "cells": [
    {
      "cell_type": "markdown",
      "metadata": {
        "id": "view-in-github",
        "colab_type": "text"
      },
      "source": [
        "<a href=\"https://colab.research.google.com/github/alessio76/Progetto-ML/blob/main/Neural_network.ipynb\" target=\"_parent\"><img src=\"https://colab.research.google.com/assets/colab-badge.svg\" alt=\"Open In Colab\"/></a>"
      ]
    },
    {
      "cell_type": "code",
      "metadata": {
        "id": "E98oGmiNeS5a"
      },
      "source": [
        "import matplotlib.pyplot as plt\n",
        "import numpy as np\n",
        "from sklearn.model_selection import cross_val_score, GridSearchCV, ParameterGrid, train_test_split\n",
        "from matplotlib import pyplot\n",
        "from sklearn.datasets import load_breast_cancer\n",
        "from sklearn.model_selection import GridSearchCV\n",
        "import json\n",
        "from google.colab import files\n",
        "from keras.wrappers.scikit_learn import KerasClassifier\n",
        "from sklearn import metrics\n",
        "import copy\n",
        "from sklearn.preprocessing import StandardScaler, MinMaxScaler, MaxAbsScaler\n",
        "from sklearn.metrics import confusion_matrix\n",
        "import os\n",
        "import time"
      ],
      "execution_count": 1,
      "outputs": []
    },
    {
      "cell_type": "code",
      "metadata": {
        "colab": {
          "base_uri": "https://localhost:8080/"
        },
        "id": "8ToBdjBmfpma",
        "outputId": "8fb384d4-ba63-4702-983d-ccf449fdfca9"
      },
      "source": [
        "import tensorflow as tf\n",
        "!pip install git+https://github.com/tensorflow/docs\n",
        "import tensorflow_docs as tfdocs\n",
        "import tensorflow_docs.modeling\n",
        "import tensorflow_docs.plots\n",
        "from tensorflow.python.client import device_lib\n",
        "print('Tensorflow Version', tf.__version__)\n",
        "print (\"\\nHardware Devices:\")\n",
        "print (device_lib.list_local_devices())\n",
        "os.environ['TF_CPP_MIN_LOG_LEVEL'] = '2'  # Nasconde messaggi di debug"
      ],
      "execution_count": 9,
      "outputs": [
        {
          "output_type": "stream",
          "name": "stdout",
          "text": [
            "Collecting git+https://github.com/tensorflow/docs\n",
            "  Cloning https://github.com/tensorflow/docs to /tmp/pip-req-build-q3g64412\n",
            "  Running command git clone -q https://github.com/tensorflow/docs /tmp/pip-req-build-q3g64412\n",
            "Requirement already satisfied: astor in /usr/local/lib/python3.7/dist-packages (from tensorflow-docs===0.0.0d1c17eec9b02a8c850e256500bd7c5f63fc8fad1-) (0.8.1)\n",
            "Requirement already satisfied: absl-py in /usr/local/lib/python3.7/dist-packages (from tensorflow-docs===0.0.0d1c17eec9b02a8c850e256500bd7c5f63fc8fad1-) (0.12.0)\n",
            "Requirement already satisfied: protobuf>=3.14 in /usr/local/lib/python3.7/dist-packages (from tensorflow-docs===0.0.0d1c17eec9b02a8c850e256500bd7c5f63fc8fad1-) (3.17.3)\n",
            "Requirement already satisfied: pyyaml in /usr/local/lib/python3.7/dist-packages (from tensorflow-docs===0.0.0d1c17eec9b02a8c850e256500bd7c5f63fc8fad1-) (3.13)\n",
            "Requirement already satisfied: six>=1.9 in /usr/local/lib/python3.7/dist-packages (from protobuf>=3.14->tensorflow-docs===0.0.0d1c17eec9b02a8c850e256500bd7c5f63fc8fad1-) (1.15.0)\n",
            "Building wheels for collected packages: tensorflow-docs\n",
            "  Building wheel for tensorflow-docs (setup.py) ... \u001b[?25l\u001b[?25hdone\n",
            "  Created wheel for tensorflow-docs: filename=tensorflow_docs-0.0.0d1c17eec9b02a8c850e256500bd7c5f63fc8fad1_-py3-none-any.whl size=157216 sha256=cde8eeeafb1bef33d5116d7339ae6d26b9eb66bca984b65b73fb00560f1f4688\n",
            "  Stored in directory: /tmp/pip-ephem-wheel-cache-m1x3mpxq/wheels/cc/c4/d8/5341e93b6376c5c929c49469fce21155eb69cef1a4da4ce32c\n",
            "\u001b[33m  WARNING: Built wheel for tensorflow-docs is invalid: Metadata 1.2 mandates PEP 440 version, but '0.0.0d1c17eec9b02a8c850e256500bd7c5f63fc8fad1-' is not\u001b[0m\n",
            "Failed to build tensorflow-docs\n",
            "Installing collected packages: tensorflow-docs\n",
            "    Running setup.py install for tensorflow-docs ... \u001b[?25l\u001b[?25hdone\n",
            "\u001b[33m  DEPRECATION: tensorflow-docs was installed using the legacy 'setup.py install' method, because a wheel could not be built for it. A possible replacement is to fix the wheel build issue reported above. You can find discussion regarding this at https://github.com/pypa/pip/issues/8368.\u001b[0m\n",
            "Successfully installed tensorflow-docs-0.0.0d1c17eec9b02a8c850e256500bd7c5f63fc8fad1-\n",
            "Tensorflow Version 2.6.0\n",
            "\n",
            "Hardware Devices:\n",
            "[name: \"/device:CPU:0\"\n",
            "device_type: \"CPU\"\n",
            "memory_limit: 268435456\n",
            "locality {\n",
            "}\n",
            "incarnation: 16789253319701616454\n",
            "]\n"
          ]
        }
      ]
    },
    {
      "cell_type": "code",
      "metadata": {
        "id": "NxSsVlUSgbfl"
      },
      "source": [
        "def build_model(activation_hidden='relu', activation_output = 'softmax', init_mode='uniform', learning_rate=0.01, momentum=0, optimizer='SGD', n_neurons = 10, \n",
        "                loss = 'sparse_categorical_crossentropy', regularization = None):\n",
        "   n_features = x.shape[1]\n",
        "   n_classes = 2\n",
        "   model = tf.keras.Sequential([\n",
        "        tf.keras.layers.Dense(n_features, activation=activation_hidden, input_shape = [n_features]),                        \n",
        "        tf.keras.layers.Dense(n_neurons, activation=activation_hidden, kernel_regularizer= regularization),\n",
        "        tf.keras.layers.Dense(n_classes, activation=activation_output)\n",
        "    ])\n",
        "   \n",
        "   if optimizer == 'SGD':\n",
        "         optimizer=tf.keras.optimizers.SGD(learning_rate=learning_rate, momentum=momentum)\n",
        "\n",
        "\n",
        "   model.compile(loss=loss, optimizer=optimizer, metrics = 'accuracy')\n",
        "   return model"
      ],
      "execution_count": null,
      "outputs": []
    },
    {
      "cell_type": "code",
      "metadata": {
        "id": "83RJK8sMMqRM"
      },
      "source": [
        "def build_model_n_layer(activation_hidden='relu', activation_output = 'softmax', init_mode='uniform', learning_rate=0.01, momentum=0, optimizer='SGD', n_neurons = 10, \n",
        "                loss = 'sparse_categorical_crossentropy', regularization = None, n_layers = 1):\n",
        "   n_features = x.shape[1]\n",
        "   n_classes = 2\n",
        "   hidden_layers = list()\n",
        "\n",
        "   for i in range(1,n_layers+1):\n",
        "     layer = tf.keras.layers.Dense(n_neurons, activation=activation_hidden, kernel_regularizer= regularization)\n",
        "     hidden_layers.append(layer)\n",
        "     \n",
        "   first_layer = [tf.keras.layers.Dense(n_features, activation=activation_hidden, input_shape = [n_features])]\n",
        "   last_layer = [tf.keras.layers.Dense(n_classes, activation=activation_output)]            \n",
        "   total_layers = first_layer + hidden_layers + last_layer                          \n",
        "   model = tf.keras.Sequential(total_layers)\n",
        "  \n",
        "   if optimizer == 'SGD':\n",
        "         optimizer=tf.keras.optimizers.SGD(learning_rate=learning_rate, momentum=momentum)\n",
        "\n",
        "\n",
        "   model.compile(loss=loss, optimizer=optimizer, metrics = 'accuracy')\n",
        "   return model"
      ],
      "execution_count": 5,
      "outputs": []
    },
    {
      "cell_type": "code",
      "metadata": {
        "id": "s2Iors4i_DzW"
      },
      "source": [
        "def grid_search(param_grid, trainig_set, training_labels, model):\n",
        "  start = time.time()\n",
        "  grid = GridSearchCV(estimator=model, param_grid=param_grid, cv=3)\n",
        "  grid_result = grid.fit(trainig_set, training_labels)\n",
        "  print('\\nTraining MLP completato in %.2f s.' % (time.time() - start))\n",
        "  print(\"Best: %f using %s\" % (grid_result.best_score_, grid_result.best_params_))\n",
        "  return grid_result.best_params_, grid_result.best_score_"
      ],
      "execution_count": 40,
      "outputs": []
    },
    {
      "cell_type": "code",
      "metadata": {
        "id": "K12ZF0AWY7Z8"
      },
      "source": [
        "def scoring(train_x, train_y, test_x, test_y, model):\n",
        "  y_pred_test, y_pred_train = model.predict(test_x), model.predict(train_x)\n",
        "  y_pred_test, y_pred_train = transform_y_pred(y_pred_test), transform_y_pred(y_pred_train)\n",
        "  compute_precision, compute_recall = tf.keras.metrics.Precision(), tf.keras.metrics.Recall()\n",
        "  compute_precision.update_state(train_y, y_pred_train)\n",
        "  compute_recall.update_state(train_y, y_pred_train)\n",
        "  train_precision, train_recall = compute_precision.result(), compute_recall.result()\n",
        "\n",
        "  compute_precision.update_state(test_y, y_pred_test)\n",
        "  compute_recall.update_state(test_y, y_pred_test)\n",
        "  test_precision, test_recall = compute_precision.result(), compute_recall.result()\n",
        "\n",
        "  print(\"Train:\", \"Precision = \",train_precision, \"Recall = \", train_recall, '\\n')\n",
        "  print(\"Test:\", \"Precision = \",test_precision, \"Recall = \", test_recall, '\\n')"
      ],
      "execution_count": 17,
      "outputs": []
    },
    {
      "cell_type": "code",
      "metadata": {
        "id": "Qt6UFFS7ciKo"
      },
      "source": [
        "def transform_y_pred(pred_y):\n",
        "  transformed_y = list()\n",
        "  for i in range(pred_y.shape[0]):\n",
        "    actual_max = max(pred_y[i, :])\n",
        "    transformed_y.append(list(np.where(pred_y[i,:] == actual_max))[0])\n",
        "  return transformed_y\n"
      ],
      "execution_count": 19,
      "outputs": []
    },
    {
      "cell_type": "code",
      "metadata": {
        "id": "sxzFwI28skjN"
      },
      "source": [
        "def plot(history):\n",
        " plotter = tfdocs.plots.HistoryPlotter(smoothing_std=0)\n",
        " plotter.plot({'Basic': history}, metric=\"accuracy\")\n",
        " plt.ylim([0, 1])\n",
        " plt.ylabel('Accuracy')\n",
        " plt.show()\n",
        " plotter.plot({'Basic': history}, metric=\"loss\")\n",
        " plt.ylabel('Loss')\n",
        " plt.show()"
      ],
      "execution_count": 21,
      "outputs": []
    },
    {
      "cell_type": "code",
      "metadata": {
        "colab": {
          "base_uri": "https://localhost:8080/"
        },
        "id": "d-7g4Qh6xnzn",
        "outputId": "c14d766d-2f8f-489f-b71e-2b9d581cf118"
      },
      "source": [
        "#dataset è un dizionario\n",
        "dataset = load_breast_cancer()\n",
        "x,y = dataset[\"data\"], dataset[\"target\"]\n",
        "train_x, test_x, train_y, test_y = train_test_split(x, y, test_size=.2, random_state=1)\n",
        "print(train_x.shape, test_x.shape)\n",
        "scaler = StandardScaler()\n",
        "scaler.fit(train_x)\n",
        "train_x = scaler.transform(train_x)\n",
        "test_x = scaler.transform(test_x)"
      ],
      "execution_count": 7,
      "outputs": [
        {
          "output_type": "stream",
          "name": "stdout",
          "text": [
            "(455, 30) (114, 30)\n"
          ]
        }
      ]
    },
    {
      "cell_type": "code",
      "metadata": {
        "colab": {
          "base_uri": "https://localhost:8080/"
        },
        "id": "LFWcLQTQ_uaC",
        "outputId": "e54a3912-d629-47dd-cbce-02ece986c798"
      },
      "source": [
        "momentum = [0.0, 0.2, 0.4, 0.6, 0.8, 0.9]\n",
        "learning_rate = [0.001, 0.01, 0.1, 0.2, 0.3, .5]\n",
        "param_grid = {'optimizer' : ['SGD'], 'momentum' : momentum, 'learning_rate' : learning_rate}\n",
        "param_dict = {'build_fn' : build_model_n_layer}\n",
        "model = KerasClassifier(**param_dict)\n",
        "param_SGD, SGD_score = grid_search(param_grid, train_x, train_y, model)"
      ],
      "execution_count": 41,
      "outputs": [
        {
          "output_type": "stream",
          "name": "stdout",
          "text": [
            "10/10 [==============================] - 0s 1ms/step - loss: 1.2018 - accuracy: 0.3927\n",
            "5/5 [==============================] - 0s 2ms/step - loss: 1.0607 - accuracy: 0.4803\n",
            "10/10 [==============================] - 0s 1ms/step - loss: 0.7362 - accuracy: 0.4422\n",
            "5/5 [==============================] - 0s 3ms/step - loss: 0.7083 - accuracy: 0.4671\n",
            "10/10 [==============================] - 0s 1ms/step - loss: 0.6974 - accuracy: 0.5493\n",
            "5/5 [==============================] - 0s 2ms/step - loss: 0.6969 - accuracy: 0.4901\n",
            "10/10 [==============================] - 0s 2ms/step - loss: 0.9706 - accuracy: 0.3366\n",
            "5/5 [==============================] - 0s 2ms/step - loss: 0.8977 - accuracy: 0.3816\n",
            "10/10 [==============================] - 0s 2ms/step - loss: 0.9689 - accuracy: 0.3498\n",
            "5/5 [==============================] - 0s 2ms/step - loss: 1.0003 - accuracy: 0.2763\n",
            "10/10 [==============================] - 0s 2ms/step - loss: 0.5241 - accuracy: 0.7566\n",
            "5/5 [==============================] - 0s 2ms/step - loss: 0.4626 - accuracy: 0.8344\n",
            "10/10 [==============================] - 0s 1ms/step - loss: 0.7497 - accuracy: 0.2937\n",
            "5/5 [==============================] - 0s 2ms/step - loss: 0.7318 - accuracy: 0.3750\n",
            "10/10 [==============================] - 0s 1ms/step - loss: 0.6766 - accuracy: 0.4686\n",
            "5/5 [==============================] - 0s 2ms/step - loss: 0.6693 - accuracy: 0.5263\n",
            "10/10 [==============================] - 0s 1ms/step - loss: 0.6523 - accuracy: 0.6349\n",
            "5/5 [==============================] - 0s 2ms/step - loss: 0.6338 - accuracy: 0.6689\n",
            "10/10 [==============================] - 0s 1ms/step - loss: 0.7522 - accuracy: 0.3366\n",
            "5/5 [==============================] - 0s 2ms/step - loss: 0.7348 - accuracy: 0.3421\n",
            "10/10 [==============================] - 0s 1ms/step - loss: 0.7377 - accuracy: 0.5347\n",
            "5/5 [==============================] - 0s 2ms/step - loss: 0.6408 - accuracy: 0.6711\n",
            "10/10 [==============================] - 0s 1ms/step - loss: 1.3053 - accuracy: 0.3684\n",
            "5/5 [==============================] - 0s 2ms/step - loss: 1.2072 - accuracy: 0.3841\n",
            "10/10 [==============================] - 0s 1ms/step - loss: 0.7427 - accuracy: 0.5875\n",
            "5/5 [==============================] - 0s 2ms/step - loss: 0.6865 - accuracy: 0.6382\n",
            "10/10 [==============================] - 0s 1ms/step - loss: 0.8774 - accuracy: 0.3465\n",
            "5/5 [==============================] - 0s 2ms/step - loss: 0.8547 - accuracy: 0.3487\n",
            "10/10 [==============================] - 0s 1ms/step - loss: 0.7315 - accuracy: 0.5296\n",
            "5/5 [==============================] - 0s 2ms/step - loss: 0.7265 - accuracy: 0.5497\n",
            "10/10 [==============================] - 0s 1ms/step - loss: 0.7976 - accuracy: 0.3762\n",
            "5/5 [==============================] - 0s 2ms/step - loss: 0.7224 - accuracy: 0.4737\n",
            "10/10 [==============================] - 0s 2ms/step - loss: 0.6978 - accuracy: 0.5116\n",
            "5/5 [==============================] - 0s 2ms/step - loss: 0.6774 - accuracy: 0.6250\n",
            "10/10 [==============================] - 0s 1ms/step - loss: 0.7440 - accuracy: 0.4474\n",
            "5/5 [==============================] - 0s 2ms/step - loss: 0.6854 - accuracy: 0.6225\n",
            "10/10 [==============================] - 0s 1ms/step - loss: 0.6553 - accuracy: 0.6073\n",
            "5/5 [==============================] - 0s 2ms/step - loss: 0.6234 - accuracy: 0.7303\n",
            "10/10 [==============================] - 0s 1ms/step - loss: 0.6980 - accuracy: 0.3729\n",
            "5/5 [==============================] - 0s 2ms/step - loss: 0.6274 - accuracy: 0.3882\n",
            "10/10 [==============================] - 0s 1ms/step - loss: 0.6845 - accuracy: 0.5329\n",
            "5/5 [==============================] - 0s 2ms/step - loss: 0.6400 - accuracy: 0.6159\n",
            "10/10 [==============================] - 0s 1ms/step - loss: 0.7257 - accuracy: 0.5611\n",
            "5/5 [==============================] - 0s 2ms/step - loss: 0.5367 - accuracy: 0.7632\n",
            "10/10 [==============================] - 0s 1ms/step - loss: 0.8869 - accuracy: 0.5644\n",
            "5/5 [==============================] - 0s 2ms/step - loss: 0.7360 - accuracy: 0.7566\n",
            "10/10 [==============================] - 0s 1ms/step - loss: 0.6257 - accuracy: 0.6184\n",
            "5/5 [==============================] - 0s 2ms/step - loss: 0.5457 - accuracy: 0.7682\n",
            "10/10 [==============================] - 0s 1ms/step - loss: 0.5328 - accuracy: 0.8086\n",
            "5/5 [==============================] - 0s 2ms/step - loss: 0.4705 - accuracy: 0.8553\n",
            "10/10 [==============================] - 0s 1ms/step - loss: 0.8653 - accuracy: 0.4587\n",
            "5/5 [==============================] - 0s 2ms/step - loss: 0.6745 - accuracy: 0.6908\n",
            "10/10 [==============================] - 0s 1ms/step - loss: 0.6026 - accuracy: 0.7368\n",
            "5/5 [==============================] - 0s 2ms/step - loss: 0.4162 - accuracy: 0.8411\n",
            "10/10 [==============================] - 0s 1ms/step - loss: 0.6748 - accuracy: 0.6073\n",
            "5/5 [==============================] - 0s 2ms/step - loss: 0.5941 - accuracy: 0.7500\n",
            "10/10 [==============================] - 0s 1ms/step - loss: 0.8638 - accuracy: 0.5776\n",
            "5/5 [==============================] - 0s 2ms/step - loss: 0.6178 - accuracy: 0.7500\n",
            "10/10 [==============================] - 0s 1ms/step - loss: 0.7286 - accuracy: 0.6842\n",
            "5/5 [==============================] - 0s 3ms/step - loss: 0.5060 - accuracy: 0.8013\n",
            "10/10 [==============================] - 0s 2ms/step - loss: 0.5435 - accuracy: 0.7162\n",
            "5/5 [==============================] - 0s 2ms/step - loss: 0.3362 - accuracy: 0.8750\n",
            "10/10 [==============================] - 0s 2ms/step - loss: 0.7259 - accuracy: 0.6337\n",
            "5/5 [==============================] - 0s 2ms/step - loss: 0.5341 - accuracy: 0.7763\n",
            "10/10 [==============================] - 0s 1ms/step - loss: 0.5287 - accuracy: 0.7204\n",
            "5/5 [==============================] - 0s 2ms/step - loss: 0.3337 - accuracy: 0.8940\n",
            "10/10 [==============================] - 0s 1ms/step - loss: 0.7141 - accuracy: 0.5809\n",
            "5/5 [==============================] - 0s 2ms/step - loss: 0.2888 - accuracy: 0.8947\n",
            "10/10 [==============================] - 0s 1ms/step - loss: 0.6305 - accuracy: 0.6502\n",
            "5/5 [==============================] - 0s 2ms/step - loss: 0.2892 - accuracy: 0.9013\n",
            "10/10 [==============================] - 0s 1ms/step - loss: 0.7638 - accuracy: 0.4704\n",
            "5/5 [==============================] - 0s 2ms/step - loss: 0.5877 - accuracy: 0.8079\n",
            "10/10 [==============================] - 0s 1ms/step - loss: 0.6957 - accuracy: 0.6205\n",
            "5/5 [==============================] - 0s 4ms/step - loss: 0.5530 - accuracy: 0.8553\n",
            "10/10 [==============================] - 0s 1ms/step - loss: 0.4017 - accuracy: 0.8416\n",
            "5/5 [==============================] - 0s 2ms/step - loss: 0.1848 - accuracy: 0.9539\n",
            "10/10 [==============================] - 0s 1ms/step - loss: 0.5323 - accuracy: 0.7961\n",
            "5/5 [==============================] - 0s 2ms/step - loss: 0.3162 - accuracy: 0.9470\n",
            "10/10 [==============================] - 0s 1ms/step - loss: 0.4872 - accuracy: 0.7954\n",
            "5/5 [==============================] - 0s 2ms/step - loss: 0.2750 - accuracy: 0.8947\n",
            "10/10 [==============================] - 0s 2ms/step - loss: 0.4244 - accuracy: 0.8086\n",
            "5/5 [==============================] - 0s 2ms/step - loss: 0.1612 - accuracy: 0.9737\n",
            "10/10 [==============================] - 0s 2ms/step - loss: 0.5403 - accuracy: 0.7566\n",
            "5/5 [==============================] - 0s 2ms/step - loss: 0.3458 - accuracy: 0.9272\n",
            "10/10 [==============================] - 0s 1ms/step - loss: 0.4435 - accuracy: 0.8185\n",
            "5/5 [==============================] - 0s 2ms/step - loss: 0.2448 - accuracy: 0.9342\n",
            "10/10 [==============================] - 0s 2ms/step - loss: 0.3915 - accuracy: 0.8350\n",
            "5/5 [==============================] - 0s 2ms/step - loss: 0.1431 - accuracy: 0.9605\n",
            "10/10 [==============================] - 0s 1ms/step - loss: 0.3482 - accuracy: 0.8421\n",
            "5/5 [==============================] - 0s 2ms/step - loss: 0.1653 - accuracy: 0.9536\n",
            "10/10 [==============================] - 0s 1ms/step - loss: 0.2262 - accuracy: 0.9076\n",
            "5/5 [==============================] - 0s 2ms/step - loss: 0.1860 - accuracy: 0.9145\n",
            "10/10 [==============================] - 0s 2ms/step - loss: 0.2954 - accuracy: 0.8845\n",
            "5/5 [==============================] - 0s 2ms/step - loss: 0.0962 - accuracy: 0.9737\n",
            "10/10 [==============================] - 0s 1ms/step - loss: 0.3679 - accuracy: 0.8421\n",
            "5/5 [==============================] - 0s 2ms/step - loss: 0.1489 - accuracy: 0.9669\n",
            "10/10 [==============================] - 0s 1ms/step - loss: 0.2566 - accuracy: 0.8647\n",
            "5/5 [==============================] - 0s 2ms/step - loss: 0.1408 - accuracy: 0.9276\n",
            "10/10 [==============================] - 0s 1ms/step - loss: 0.2806 - accuracy: 0.8878\n",
            "5/5 [==============================] - 0s 2ms/step - loss: 0.0831 - accuracy: 0.9737\n",
            "10/10 [==============================] - 0s 1ms/step - loss: 0.3532 - accuracy: 0.8816\n",
            "5/5 [==============================] - 0s 2ms/step - loss: 0.1362 - accuracy: 0.9669\n",
            "10/10 [==============================] - 0s 2ms/step - loss: 0.4888 - accuracy: 0.7624\n",
            "5/5 [==============================] - 0s 2ms/step - loss: 0.2324 - accuracy: 0.8947\n",
            "10/10 [==============================] - 0s 2ms/step - loss: 0.4999 - accuracy: 0.8185\n",
            "5/5 [==============================] - 0s 2ms/step - loss: 0.1238 - accuracy: 0.9539\n",
            "10/10 [==============================] - 0s 1ms/step - loss: 0.3807 - accuracy: 0.8257\n",
            "5/5 [==============================] - 0s 2ms/step - loss: 0.1520 - accuracy: 0.9603\n",
            "10/10 [==============================] - 0s 2ms/step - loss: 0.2777 - accuracy: 0.8944\n",
            "5/5 [==============================] - 0s 2ms/step - loss: 0.1614 - accuracy: 0.9474\n",
            "10/10 [==============================] - 0s 1ms/step - loss: 0.3541 - accuracy: 0.8449\n",
            "5/5 [==============================] - 0s 2ms/step - loss: 0.1254 - accuracy: 0.9539\n",
            "10/10 [==============================] - 0s 1ms/step - loss: 0.4281 - accuracy: 0.8059\n",
            "5/5 [==============================] - 0s 2ms/step - loss: 0.2597 - accuracy: 0.9272\n",
            "10/10 [==============================] - 0s 2ms/step - loss: 0.4228 - accuracy: 0.8317\n",
            "5/5 [==============================] - 0s 2ms/step - loss: 0.2034 - accuracy: 0.9276\n",
            "10/10 [==============================] - 0s 2ms/step - loss: 0.3763 - accuracy: 0.8581\n",
            "5/5 [==============================] - 0s 2ms/step - loss: 0.1375 - accuracy: 0.9671\n",
            "10/10 [==============================] - 0s 2ms/step - loss: 0.4032 - accuracy: 0.8092\n",
            "5/5 [==============================] - 0s 2ms/step - loss: 0.1533 - accuracy: 0.9603\n",
            "10/10 [==============================] - 0s 1ms/step - loss: 0.2485 - accuracy: 0.9043\n",
            "5/5 [==============================] - 0s 2ms/step - loss: 0.1657 - accuracy: 0.9145\n",
            "10/10 [==============================] - 0s 2ms/step - loss: 0.3410 - accuracy: 0.8614\n",
            "5/5 [==============================] - 0s 2ms/step - loss: 0.1146 - accuracy: 0.9539\n",
            "10/10 [==============================] - 0s 1ms/step - loss: 0.4298 - accuracy: 0.8059\n",
            "5/5 [==============================] - 0s 3ms/step - loss: 0.1689 - accuracy: 0.9536\n",
            "10/10 [==============================] - 0s 1ms/step - loss: 0.3795 - accuracy: 0.8746\n",
            "5/5 [==============================] - 0s 2ms/step - loss: 0.1744 - accuracy: 0.9211\n",
            "10/10 [==============================] - 0s 1ms/step - loss: 0.3802 - accuracy: 0.8185\n",
            "5/5 [==============================] - 0s 2ms/step - loss: 0.0777 - accuracy: 0.9671\n",
            "10/10 [==============================] - 0s 2ms/step - loss: 0.1855 - accuracy: 0.9375\n",
            "5/5 [==============================] - 0s 3ms/step - loss: 0.0987 - accuracy: 0.9669\n",
            "10/10 [==============================] - 0s 1ms/step - loss: 0.2192 - accuracy: 0.9043\n",
            "5/5 [==============================] - 0s 2ms/step - loss: 0.1946 - accuracy: 0.9474\n",
            "10/10 [==============================] - 0s 2ms/step - loss: 0.2618 - accuracy: 0.9043\n",
            "5/5 [==============================] - 0s 4ms/step - loss: 0.0636 - accuracy: 0.9671\n",
            "10/10 [==============================] - 0s 1ms/step - loss: 0.3027 - accuracy: 0.8289\n",
            "5/5 [==============================] - 0s 3ms/step - loss: 0.1064 - accuracy: 0.9868\n",
            "10/10 [==============================] - 0s 1ms/step - loss: 0.3043 - accuracy: 0.8449\n",
            "5/5 [==============================] - 0s 2ms/step - loss: 0.2131 - accuracy: 0.9211\n",
            "10/10 [==============================] - 0s 2ms/step - loss: 0.3780 - accuracy: 0.8284\n",
            "5/5 [==============================] - 0s 2ms/step - loss: 0.0530 - accuracy: 0.9803\n",
            "10/10 [==============================] - 0s 2ms/step - loss: 0.2678 - accuracy: 0.8947\n",
            "5/5 [==============================] - 0s 2ms/step - loss: 0.0874 - accuracy: 0.9868\n",
            "10/10 [==============================] - 0s 1ms/step - loss: 0.2171 - accuracy: 0.9373\n",
            "5/5 [==============================] - 0s 2ms/step - loss: 0.1552 - accuracy: 0.9276\n",
            "10/10 [==============================] - 0s 1ms/step - loss: 0.3157 - accuracy: 0.8383\n",
            "5/5 [==============================] - 0s 2ms/step - loss: 0.1374 - accuracy: 0.9408\n",
            "10/10 [==============================] - 0s 1ms/step - loss: 0.2907 - accuracy: 0.8684\n",
            "5/5 [==============================] - 0s 2ms/step - loss: 0.1392 - accuracy: 0.9603\n",
            "10/10 [==============================] - 0s 1ms/step - loss: 0.3006 - accuracy: 0.8944\n",
            "5/5 [==============================] - 0s 2ms/step - loss: 0.2274 - accuracy: 0.8750\n",
            "10/10 [==============================] - 0s 2ms/step - loss: 0.3030 - accuracy: 0.9274\n",
            "5/5 [==============================] - 0s 2ms/step - loss: 0.0813 - accuracy: 0.9803\n",
            "10/10 [==============================] - 0s 2ms/step - loss: 0.2328 - accuracy: 0.8849\n",
            "5/5 [==============================] - 0s 2ms/step - loss: 0.1063 - accuracy: 0.9735\n",
            "10/10 [==============================] - 0s 1ms/step - loss: 0.2132 - accuracy: 0.9307\n",
            "5/5 [==============================] - 0s 2ms/step - loss: 0.1528 - accuracy: 0.9276\n",
            "10/10 [==============================] - 0s 2ms/step - loss: 0.2654 - accuracy: 0.9142\n",
            "5/5 [==============================] - 0s 2ms/step - loss: 0.0837 - accuracy: 0.9605\n",
            "10/10 [==============================] - 0s 1ms/step - loss: 0.2534 - accuracy: 0.8849\n",
            "5/5 [==============================] - 0s 2ms/step - loss: 0.1263 - accuracy: 0.9669\n",
            "10/10 [==============================] - 0s 2ms/step - loss: 0.2484 - accuracy: 0.9010\n",
            "5/5 [==============================] - 0s 2ms/step - loss: 0.1478 - accuracy: 0.9145\n",
            "10/10 [==============================] - 0s 2ms/step - loss: 0.3283 - accuracy: 0.8581\n",
            "5/5 [==============================] - 0s 2ms/step - loss: 0.1177 - accuracy: 0.9605\n",
            "10/10 [==============================] - 0s 1ms/step - loss: 0.4034 - accuracy: 0.8026\n",
            "5/5 [==============================] - 0s 2ms/step - loss: 0.1041 - accuracy: 0.9603\n",
            "10/10 [==============================] - 0s 1ms/step - loss: 0.1756 - accuracy: 0.9538\n",
            "5/5 [==============================] - 0s 2ms/step - loss: 0.2379 - accuracy: 0.9342\n",
            "10/10 [==============================] - 0s 2ms/step - loss: 0.2620 - accuracy: 0.9076\n",
            "5/5 [==============================] - 0s 2ms/step - loss: 0.1105 - accuracy: 0.9605\n",
            "10/10 [==============================] - 0s 1ms/step - loss: 0.2087 - accuracy: 0.9243\n",
            "5/5 [==============================] - 0s 2ms/step - loss: 0.1198 - accuracy: 0.9669\n",
            "10/10 [==============================] - 0s 2ms/step - loss: 0.3153 - accuracy: 0.8878\n",
            "5/5 [==============================] - 0s 2ms/step - loss: 0.2062 - accuracy: 0.9145\n",
            "10/10 [==============================] - 0s 1ms/step - loss: 0.2538 - accuracy: 0.9241\n",
            "5/5 [==============================] - 0s 2ms/step - loss: 0.1840 - accuracy: 0.9474\n",
            "10/10 [==============================] - 0s 2ms/step - loss: 0.2417 - accuracy: 0.8717\n",
            "5/5 [==============================] - 0s 2ms/step - loss: 0.3098 - accuracy: 0.9603\n",
            "10/10 [==============================] - 0s 1ms/step - loss: 0.2543 - accuracy: 0.8746\n",
            "5/5 [==============================] - 0s 2ms/step - loss: 0.1391 - accuracy: 0.9408\n",
            "10/10 [==============================] - 0s 1ms/step - loss: 0.2306 - accuracy: 0.8845\n",
            "5/5 [==============================] - 0s 2ms/step - loss: 0.0948 - accuracy: 0.9737\n",
            "10/10 [==============================] - 0s 1ms/step - loss: 0.3403 - accuracy: 0.8553\n",
            "5/5 [==============================] - 0s 2ms/step - loss: 0.1167 - accuracy: 0.9669\n",
            "10/10 [==============================] - 0s 2ms/step - loss: 0.2510 - accuracy: 0.8713\n",
            "5/5 [==============================] - 0s 2ms/step - loss: 0.2399 - accuracy: 0.9145\n",
            "10/10 [==============================] - 0s 1ms/step - loss: 0.2532 - accuracy: 0.9076\n",
            "5/5 [==============================] - 0s 2ms/step - loss: 0.0554 - accuracy: 0.9934\n",
            "10/10 [==============================] - 0s 2ms/step - loss: 0.3243 - accuracy: 0.8553\n",
            "5/5 [==============================] - 0s 3ms/step - loss: 0.1272 - accuracy: 0.9603\n",
            "10/10 [==============================] - 0s 1ms/step - loss: 0.3018 - accuracy: 0.8515\n",
            "5/5 [==============================] - 0s 2ms/step - loss: 0.2028 - accuracy: 0.8947\n",
            "10/10 [==============================] - 0s 1ms/step - loss: 0.2347 - accuracy: 0.9010\n",
            "5/5 [==============================] - 0s 2ms/step - loss: 0.0713 - accuracy: 0.9737\n",
            "10/10 [==============================] - 0s 1ms/step - loss: 0.2829 - accuracy: 0.8454\n",
            "5/5 [==============================] - 0s 2ms/step - loss: 0.0967 - accuracy: 0.9801\n",
            "10/10 [==============================] - 0s 1ms/step - loss: 0.1843 - accuracy: 0.9340\n",
            "5/5 [==============================] - 0s 2ms/step - loss: 0.1171 - accuracy: 0.9605\n",
            "10/10 [==============================] - 0s 1ms/step - loss: 0.3326 - accuracy: 0.8647\n",
            "5/5 [==============================] - 0s 2ms/step - loss: 0.0657 - accuracy: 0.9737\n",
            "10/10 [==============================] - 0s 2ms/step - loss: 0.1845 - accuracy: 0.9342\n",
            "5/5 [==============================] - 0s 2ms/step - loss: 0.0818 - accuracy: 0.9801\n",
            "10/10 [==============================] - 0s 1ms/step - loss: 0.2118 - accuracy: 0.9307\n",
            "5/5 [==============================] - 0s 2ms/step - loss: 0.2616 - accuracy: 0.9079\n",
            "10/10 [==============================] - 0s 2ms/step - loss: 0.2812 - accuracy: 0.8746\n",
            "5/5 [==============================] - 0s 2ms/step - loss: 0.8195 - accuracy: 0.8750\n",
            "10/10 [==============================] - 0s 1ms/step - loss: 0.2636 - accuracy: 0.8454\n",
            "5/5 [==============================] - 0s 1ms/step - loss: 0.1709 - accuracy: 0.9669\n",
            "10/10 [==============================] - 0s 1ms/step - loss: 0.1935 - accuracy: 0.8944\n",
            "5/5 [==============================] - 0s 2ms/step - loss: 0.6946 - accuracy: 0.9211\n",
            "10/10 [==============================] - 0s 2ms/step - loss: 0.3506 - accuracy: 0.7954\n",
            "5/5 [==============================] - 0s 2ms/step - loss: 0.0875 - accuracy: 0.9803\n",
            "10/10 [==============================] - 0s 2ms/step - loss: 0.2173 - accuracy: 0.8914\n",
            "5/5 [==============================] - 0s 2ms/step - loss: 0.1488 - accuracy: 0.9934\n",
            "15/15 [==============================] - 0s 1ms/step - loss: 0.1791 - accuracy: 0.9275\n",
            "\n",
            "Training MLP completato in 51.77 s.\n",
            "Best: 0.971448 using {'learning_rate': 0.5, 'momentum': 0.6, 'optimizer': 'SGD'}\n"
          ]
        }
      ]
    },
    {
      "cell_type": "code",
      "metadata": {
        "id": "9ZN66C2MNw7M",
        "colab": {
          "base_uri": "https://localhost:8080/"
        },
        "outputId": "6bec37dd-eeac-4ecf-e84b-6f9969016db3"
      },
      "source": [
        "param_grid = [{'optimizer': ['Adam'], 'learning_rate' : learning_rate},\n",
        "              {'optimizer' : ['Adagrad']}]\n",
        "param_others, other_score = grid_search(param_grid, train_x, train_y, model)\n",
        "if other_score > SGD_score:\n",
        "  values = param_others\n",
        "else:\n",
        "   values = param_SGD\n",
        "\n",
        "print(values)"
      ],
      "execution_count": 42,
      "outputs": [
        {
          "output_type": "stream",
          "name": "stdout",
          "text": [
            "10/10 [==============================] - 0s 1ms/step - loss: 0.5155 - accuracy: 0.8581\n",
            "5/5 [==============================] - 0s 2ms/step - loss: 0.4717 - accuracy: 0.8882\n",
            "10/10 [==============================] - 0s 2ms/step - loss: 0.6998 - accuracy: 0.5281\n",
            "5/5 [==============================] - 0s 2ms/step - loss: 0.5190 - accuracy: 0.7171\n",
            "10/10 [==============================] - 0s 2ms/step - loss: 0.8935 - accuracy: 0.3882\n",
            "5/5 [==============================] - 0s 2ms/step - loss: 0.6440 - accuracy: 0.5762\n",
            "10/10 [==============================] - 0s 1ms/step - loss: 0.6277 - accuracy: 0.6304\n",
            "5/5 [==============================] - 0s 2ms/step - loss: 0.5172 - accuracy: 0.8289\n",
            "10/10 [==============================] - 0s 1ms/step - loss: 0.6628 - accuracy: 0.7030\n",
            "5/5 [==============================] - 0s 2ms/step - loss: 0.4735 - accuracy: 0.7961\n",
            "10/10 [==============================] - 0s 1ms/step - loss: 0.6074 - accuracy: 0.6974\n",
            "5/5 [==============================] - 0s 2ms/step - loss: 0.5327 - accuracy: 0.7682\n",
            "10/10 [==============================] - 0s 2ms/step - loss: 0.6857 - accuracy: 0.5446\n",
            "5/5 [==============================] - 0s 2ms/step - loss: 0.5823 - accuracy: 0.7566\n",
            "10/10 [==============================] - 0s 1ms/step - loss: 0.4558 - accuracy: 0.8218\n",
            "5/5 [==============================] - 0s 2ms/step - loss: 0.3235 - accuracy: 0.9474\n",
            "10/10 [==============================] - 0s 1ms/step - loss: 0.7019 - accuracy: 0.5757\n",
            "5/5 [==============================] - 0s 2ms/step - loss: 0.5432 - accuracy: 0.7616\n",
            "10/10 [==============================] - 0s 1ms/step - loss: 0.9191 - accuracy: 0.3861\n",
            "5/5 [==============================] - 0s 2ms/step - loss: 0.7202 - accuracy: 0.4211\n",
            "10/10 [==============================] - 0s 1ms/step - loss: 0.4336 - accuracy: 0.8614\n",
            "5/5 [==============================] - 0s 2ms/step - loss: 0.3249 - accuracy: 0.9539\n",
            "10/10 [==============================] - 1s 2ms/step - loss: 0.6100 - accuracy: 0.6645\n",
            "5/5 [==============================] - 0s 2ms/step - loss: 0.4946 - accuracy: 0.8411\n",
            "10/10 [==============================] - 0s 2ms/step - loss: 0.6811 - accuracy: 0.6700\n",
            "5/5 [==============================] - 0s 2ms/step - loss: 0.5595 - accuracy: 0.7566\n",
            "10/10 [==============================] - 0s 1ms/step - loss: 0.6911 - accuracy: 0.5314\n",
            "5/5 [==============================] - 0s 2ms/step - loss: 0.5885 - accuracy: 0.6711\n",
            "10/10 [==============================] - 0s 2ms/step - loss: 0.7467 - accuracy: 0.5855\n",
            "5/5 [==============================] - 0s 3ms/step - loss: 0.6330 - accuracy: 0.6689\n",
            "10/10 [==============================] - 0s 1ms/step - loss: 0.6988 - accuracy: 0.6073\n",
            "5/5 [==============================] - 0s 2ms/step - loss: 0.6331 - accuracy: 0.7763\n",
            "10/10 [==============================] - 0s 2ms/step - loss: 0.7211 - accuracy: 0.5182\n",
            "5/5 [==============================] - 0s 2ms/step - loss: 0.6421 - accuracy: 0.6513\n",
            "10/10 [==============================] - 0s 1ms/step - loss: 0.6749 - accuracy: 0.6316\n",
            "5/5 [==============================] - 0s 2ms/step - loss: 0.5976 - accuracy: 0.6159\n",
            "10/10 [==============================] - 0s 1ms/step - loss: 0.6653 - accuracy: 0.5941\n",
            "5/5 [==============================] - 0s 2ms/step - loss: 0.6556 - accuracy: 0.6118\n",
            "10/10 [==============================] - 0s 1ms/step - loss: 0.7073 - accuracy: 0.5776\n",
            "5/5 [==============================] - 0s 2ms/step - loss: 0.7392 - accuracy: 0.5461\n",
            "10/10 [==============================] - 0s 1ms/step - loss: 0.8836 - accuracy: 0.2993\n",
            "5/5 [==============================] - 0s 2ms/step - loss: 0.8352 - accuracy: 0.3510\n",
            "15/15 [==============================] - 0s 1ms/step - loss: 0.6013 - accuracy: 0.7780\n",
            "\n",
            "Training MLP completato in 10.90 s.\n",
            "Best: 0.821846 using {'learning_rate': 0.1, 'optimizer': 'Adam'}\n",
            "{'learning_rate': 0.5, 'momentum': 0.6, 'optimizer': 'SGD'}\n"
          ]
        }
      ]
    },
    {
      "cell_type": "code",
      "metadata": {
        "id": "FiXLXgXDY4i2",
        "colab": {
          "base_uri": "https://localhost:8080/"
        },
        "outputId": "e012c1af-627e-4ed4-bf4c-3e4a074c8c96"
      },
      "source": [
        "param_dict = {**values, 'build_fn' : build_model_n_layer}\n",
        "model = KerasClassifier(**param_dict)\n",
        "init_mode = ['uniform', 'normal', 'zero', 'he_normal', 'he_uniform']\n",
        "param_grid = dict(init_mode = init_mode)\n",
        "values = {**values, **grid_search(param_grid, train_x, train_y, model)[0]}"
      ],
      "execution_count": 43,
      "outputs": [
        {
          "output_type": "stream",
          "name": "stdout",
          "text": [
            "10/10 [==============================] - 0s 1ms/step - loss: 0.2002 - accuracy: 0.8779\n",
            "5/5 [==============================] - 0s 2ms/step - loss: 0.2368 - accuracy: 0.8947\n",
            "10/10 [==============================] - 0s 1ms/step - loss: 0.3806 - accuracy: 0.8416\n",
            "5/5 [==============================] - 0s 2ms/step - loss: 0.0572 - accuracy: 0.9737\n",
            "10/10 [==============================] - 0s 1ms/step - loss: 0.2141 - accuracy: 0.9112\n",
            "5/5 [==============================] - 0s 2ms/step - loss: 0.0820 - accuracy: 0.9868\n",
            "10/10 [==============================] - 0s 1ms/step - loss: 0.2691 - accuracy: 0.8548\n",
            "5/5 [==============================] - 0s 2ms/step - loss: 0.1742 - accuracy: 0.9276\n",
            "10/10 [==============================] - 0s 1ms/step - loss: 0.2724 - accuracy: 0.8548\n",
            "5/5 [==============================] - 0s 2ms/step - loss: 0.0617 - accuracy: 0.9868\n",
            "10/10 [==============================] - 0s 1ms/step - loss: 0.2387 - accuracy: 0.8947\n",
            "5/5 [==============================] - 0s 2ms/step - loss: 0.0841 - accuracy: 0.9868\n",
            "10/10 [==============================] - 0s 1ms/step - loss: 0.2324 - accuracy: 0.8911\n",
            "5/5 [==============================] - 0s 2ms/step - loss: 0.3163 - accuracy: 0.9145\n",
            "10/10 [==============================] - 0s 1ms/step - loss: 0.2889 - accuracy: 0.8515\n",
            "5/5 [==============================] - 0s 2ms/step - loss: 0.0852 - accuracy: 0.9671\n",
            "10/10 [==============================] - 0s 1ms/step - loss: 0.1934 - accuracy: 0.9145\n",
            "5/5 [==============================] - 0s 2ms/step - loss: 0.1391 - accuracy: 0.9669\n",
            "10/10 [==============================] - 0s 2ms/step - loss: 0.2778 - accuracy: 0.8845\n",
            "5/5 [==============================] - 0s 2ms/step - loss: 0.2015 - accuracy: 0.9276\n",
            "10/10 [==============================] - 0s 1ms/step - loss: 0.3088 - accuracy: 0.8911\n",
            "5/5 [==============================] - 0s 3ms/step - loss: 0.0819 - accuracy: 0.9737\n",
            "10/10 [==============================] - 0s 1ms/step - loss: 0.2194 - accuracy: 0.8882\n",
            "5/5 [==============================] - 0s 2ms/step - loss: 0.1107 - accuracy: 0.9735\n",
            "10/10 [==============================] - 0s 1ms/step - loss: 0.1833 - accuracy: 0.9340\n",
            "5/5 [==============================] - 0s 2ms/step - loss: 0.2124 - accuracy: 0.9079\n",
            "10/10 [==============================] - 0s 1ms/step - loss: 0.2850 - accuracy: 0.8680\n",
            "5/5 [==============================] - 0s 2ms/step - loss: 0.1535 - accuracy: 0.9474\n",
            "10/10 [==============================] - 1s 1ms/step - loss: 0.3016 - accuracy: 0.8684\n",
            "5/5 [==============================] - 0s 2ms/step - loss: 0.0971 - accuracy: 0.9868\n",
            "15/15 [==============================] - 0s 1ms/step - loss: 0.2329 - accuracy: 0.8879\n",
            "\n",
            "Training MLP completato in 7.86 s.\n",
            "Best: 0.967076 using {'init_mode': 'normal'}\n"
          ]
        }
      ]
    },
    {
      "cell_type": "code",
      "metadata": {
        "id": "y1aTZzbGd64a",
        "colab": {
          "base_uri": "https://localhost:8080/"
        },
        "outputId": "d927fec1-2727-4f90-98e7-69ae56c6f928"
      },
      "source": [
        "param_dict = {**values, 'build_fn' : build_model_n_layer}\n",
        "model = KerasClassifier(**param_dict)\n",
        "activation_hidden = ['softmax', 'relu', 'sigmoid', 'tanh']\n",
        "activation_output = ['softmax','sigmoid']\n",
        "param_grid = {'activation_hidden' : activation_hidden, 'activation_output' : activation_output}\n",
        "values = {**values, **grid_search(param_grid, train_x, train_y, model)[0]}"
      ],
      "execution_count": 44,
      "outputs": [
        {
          "output_type": "stream",
          "name": "stdout",
          "text": [
            "10/10 [==============================] - 0s 1ms/step - loss: 0.6742 - accuracy: 0.5941\n",
            "5/5 [==============================] - 0s 2ms/step - loss: 0.6763 - accuracy: 0.6382\n",
            "10/10 [==============================] - 0s 1ms/step - loss: 0.6737 - accuracy: 0.5809\n",
            "5/5 [==============================] - 0s 3ms/step - loss: 0.6581 - accuracy: 0.6250\n",
            "10/10 [==============================] - 0s 1ms/step - loss: 0.6775 - accuracy: 0.6316\n",
            "5/5 [==============================] - 0s 2ms/step - loss: 0.6656 - accuracy: 0.6159\n",
            "10/10 [==============================] - 0s 1ms/step - loss: 0.6782 - accuracy: 0.6205\n",
            "5/5 [==============================] - 0s 2ms/step - loss: 0.6719 - accuracy: 0.6382\n",
            "10/10 [==============================] - 0s 1ms/step - loss: 0.6611 - accuracy: 0.6139\n",
            "5/5 [==============================] - 0s 2ms/step - loss: 0.6756 - accuracy: 0.6250\n",
            "10/10 [==============================] - 0s 1ms/step - loss: 0.6722 - accuracy: 0.6349\n",
            "5/5 [==============================] - 0s 2ms/step - loss: 0.6629 - accuracy: 0.6159\n",
            "10/10 [==============================] - 0s 1ms/step - loss: 0.2434 - accuracy: 0.8647\n",
            "5/5 [==============================] - 0s 2ms/step - loss: 0.2216 - accuracy: 0.9211\n",
            "10/10 [==============================] - 0s 1ms/step - loss: 0.2740 - accuracy: 0.8779\n",
            "5/5 [==============================] - 0s 2ms/step - loss: 0.0747 - accuracy: 0.9605\n",
            "10/10 [==============================] - 0s 1ms/step - loss: 0.2811 - accuracy: 0.8783\n",
            "5/5 [==============================] - 0s 2ms/step - loss: 0.1124 - accuracy: 0.9868\n",
            "10/10 [==============================] - 0s 1ms/step - loss: 0.2849 - accuracy: 0.8515\n",
            "5/5 [==============================] - 0s 2ms/step - loss: 0.2083 - accuracy: 0.9342\n",
            "10/10 [==============================] - 0s 1ms/step - loss: 0.2436 - accuracy: 0.8845\n",
            "5/5 [==============================] - 0s 2ms/step - loss: 0.0870 - accuracy: 0.9605\n",
            "10/10 [==============================] - 0s 1ms/step - loss: 0.2970 - accuracy: 0.8388\n",
            "5/5 [==============================] - 0s 2ms/step - loss: 0.0992 - accuracy: 0.9735\n",
            "10/10 [==============================] - 1s 1ms/step - loss: 0.6642 - accuracy: 0.6403\n",
            "5/5 [==============================] - 0s 2ms/step - loss: 0.6366 - accuracy: 0.5592\n",
            "10/10 [==============================] - 0s 1ms/step - loss: 0.5717 - accuracy: 0.6964\n",
            "5/5 [==============================] - 0s 2ms/step - loss: 0.2996 - accuracy: 0.9408\n",
            "10/10 [==============================] - 0s 1ms/step - loss: 0.5189 - accuracy: 0.7566\n",
            "5/5 [==============================] - 0s 2ms/step - loss: 0.2870 - accuracy: 0.9338\n",
            "10/10 [==============================] - 0s 1ms/step - loss: 0.5523 - accuracy: 0.7393\n",
            "5/5 [==============================] - 0s 2ms/step - loss: 0.3117 - accuracy: 0.9079\n",
            "10/10 [==============================] - 0s 1ms/step - loss: 0.6503 - accuracy: 0.6469\n",
            "5/5 [==============================] - 0s 2ms/step - loss: 0.3594 - accuracy: 0.9539\n",
            "10/10 [==============================] - 0s 1ms/step - loss: 0.5277 - accuracy: 0.7072\n",
            "5/5 [==============================] - 0s 2ms/step - loss: 0.3150 - accuracy: 0.9536\n",
            "10/10 [==============================] - 0s 1ms/step - loss: 0.1437 - accuracy: 0.9406\n",
            "5/5 [==============================] - 0s 2ms/step - loss: 0.2109 - accuracy: 0.9013\n",
            "10/10 [==============================] - 0s 1ms/step - loss: 0.2360 - accuracy: 0.8878\n",
            "5/5 [==============================] - 0s 2ms/step - loss: 0.0255 - accuracy: 0.9934\n",
            "10/10 [==============================] - 0s 1ms/step - loss: 0.1720 - accuracy: 0.9178\n",
            "5/5 [==============================] - 0s 2ms/step - loss: 0.0784 - accuracy: 0.9801\n",
            "10/10 [==============================] - 0s 1ms/step - loss: 0.1747 - accuracy: 0.9109\n",
            "5/5 [==============================] - 0s 2ms/step - loss: 0.1701 - accuracy: 0.9276\n",
            "10/10 [==============================] - 0s 1ms/step - loss: 0.2301 - accuracy: 0.8944\n",
            "5/5 [==============================] - 0s 2ms/step - loss: 0.0331 - accuracy: 0.9934\n",
            "10/10 [==============================] - 0s 2ms/step - loss: 0.1848 - accuracy: 0.9178\n",
            "5/5 [==============================] - 0s 2ms/step - loss: 0.1068 - accuracy: 0.9603\n",
            "15/15 [==============================] - 0s 1ms/step - loss: 0.1781 - accuracy: 0.9165\n",
            "\n",
            "Training MLP completato in 11.52 s.\n",
            "Best: 0.960439 using {'activation_hidden': 'tanh', 'activation_output': 'sigmoid'}\n"
          ]
        }
      ]
    },
    {
      "cell_type": "markdown",
      "metadata": {
        "id": "i15A3zuPKBvN"
      },
      "source": [
        "SGD con momentum e learning rate ottime prestazioni ma su addestramenti successivi maggiore variazione delle perfomarce. Adam più deterministico e loss più regolare anche se leggeremente inferiori prestazioni. Sceglierei SGD con regolarizzazione"
      ]
    },
    {
      "cell_type": "code",
      "metadata": {
        "id": "LJ3leKAHGRj6",
        "colab": {
          "base_uri": "https://localhost:8080/",
          "height": 914
        },
        "outputId": "7c509459-7218-43ef-81a1-c0562646654f"
      },
      "source": [
        "\n",
        "batch_size = 50\n",
        "epochs = 10\n",
        "model_3_layers_param = copy.deepcopy(values)\n",
        "model_3_layers_param[\"n_neurons\"] = 20\n",
        "#model_3_layers_param[\"optimizer\"] = 'Adam'\n",
        "#model_3_layers_param[\"learning_rate\"] = param_others[\"learning_rate\"]\n",
        "model_3_layers_param[\"regularization\"] = tf.keras.regularizers.L2(.01)\n",
        "model = build_model_n_layer(**model_3_layers_param)\n",
        "model.summary()\n",
        "early_stop = tf.keras.callbacks.EarlyStopping(monitor='loss', patience=20, restore_best_weights=True)\n",
        "start = time.time()\n",
        "history = model.fit(train_x, train_y,\n",
        "                    epochs=epochs, batch_size=batch_size,  validation_data=(test_x, test_y), shuffle=True,\n",
        "                    verbose=0, callbacks=[early_stop, tfdocs.modeling.EpochDots(report_every=10, dot_every=1)])\n",
        "print('\\nTraining MLP completato in %.2f s.' % (time.time() - start))\n",
        "scoring(train_x, train_y, test_x, test_y,model)\n",
        "plot(history)"
      ],
      "execution_count": 172,
      "outputs": [
        {
          "output_type": "stream",
          "name": "stdout",
          "text": [
            "Model: \"sequential_338\"\n",
            "_________________________________________________________________\n",
            "Layer (type)                 Output Shape              Param #   \n",
            "=================================================================\n",
            "dense_1171 (Dense)           (None, 30)                930       \n",
            "_________________________________________________________________\n",
            "dense_1170 (Dense)           (None, 20)                620       \n",
            "_________________________________________________________________\n",
            "dense_1172 (Dense)           (None, 2)                 42        \n",
            "=================================================================\n",
            "Total params: 1,592\n",
            "Trainable params: 1,592\n",
            "Non-trainable params: 0\n",
            "_________________________________________________________________\n",
            "\n",
            "Epoch: 0, accuracy:0.8901,  loss:0.4243,  val_accuracy:0.9737,  val_loss:0.2889,  \n",
            "..........\n",
            "Training MLP completato in 1.56 s.\n",
            "Train: Precision =  tf.Tensor(0.9895833, shape=(), dtype=float32) Recall =  tf.Tensor(1.0, shape=(), dtype=float32) \n",
            "\n",
            "Test: Precision =  tf.Tensor(0.98342544, shape=(), dtype=float32) Recall =  tf.Tensor(0.9971989, shape=(), dtype=float32) \n",
            "\n"
          ]
        },
        {
          "output_type": "display_data",
          "data": {
            "image/png": "[encoded data removed]",
            "text/plain": [
              "<Figure size 432x288 with 1 Axes>"
            ]
          },
          "metadata": {
            "needs_background": "light"
          }
        },
        {
          "output_type": "display_data",
          "data": {
            "image/png": "[encoded data removed]",
            "text/plain": [
              "<Figure size 432x288 with 1 Axes>"
            ]
          },
          "metadata": {
            "needs_background": "light"
          }
        }
      ]
    },
    {
      "cell_type": "code",
      "metadata": {
        "id": "c-vxtgkPsopa",
        "colab": {
          "base_uri": "https://localhost:8080/",
          "height": 1000
        },
        "outputId": "84e01a4e-22a2-4eee-8505-ba8eddd07b29"
      },
      "source": [
        "#grandi valori della penalità = alta recall, bassa precisione\n",
        "#dopo 3 layer nessun miglioramento significativo, SGD regolarizzato leggermente superiore\n",
        "model_n_layers_param = copy.deepcopy(values)\n",
        "model_n_layers_param[\"n_neurons\"] = 20\n",
        "#model_n_layers_param[\"optimizer\"] = 'Adam'\n",
        "#model_n_layers_param[\"learning_rate\"] = param_others[\"learning_rate\"]\n",
        "model_n_layers_param[\"regularization\"] = tf.keras.regularizers.L2(.01)\n",
        "model4 = build_model_n_layer(**model_n_layers_param, n_layers = 5)\n",
        "model4.summary()\n",
        "early_stop = tf.keras.callbacks.EarlyStopping(monitor='loss', patience=20, restore_best_weights=True)\n",
        "start = time.time()\n",
        "history = model4.fit(train_x, train_y,\n",
        "                    epochs=epochs, batch_size=batch_size,  validation_data=(test_x, test_y), shuffle=True,\n",
        "                    verbose=0, callbacks=[early_stop, tfdocs.modeling.EpochDots(report_every=10, dot_every=1)])\n",
        "print('\\nTraining MLP completato in %.2f s.' % (time.time() - start))\n",
        "scoring(train_x, train_y, test_x, test_y, model4)\n",
        "plot(history)"
      ],
      "execution_count": 193,
      "outputs": [
        {
          "output_type": "stream",
          "name": "stdout",
          "text": [
            "Model: \"sequential_359\"\n",
            "_________________________________________________________________\n",
            "Layer (type)                 Output Shape              Param #   \n",
            "=================================================================\n",
            "dense_1292 (Dense)           (None, 30)                930       \n",
            "_________________________________________________________________\n",
            "dense_1287 (Dense)           (None, 20)                620       \n",
            "_________________________________________________________________\n",
            "dense_1288 (Dense)           (None, 20)                420       \n",
            "_________________________________________________________________\n",
            "dense_1289 (Dense)           (None, 20)                420       \n",
            "_________________________________________________________________\n",
            "dense_1290 (Dense)           (None, 20)                420       \n",
            "_________________________________________________________________\n",
            "dense_1291 (Dense)           (None, 20)                420       \n",
            "_________________________________________________________________\n",
            "dense_1293 (Dense)           (None, 2)                 42        \n",
            "=================================================================\n",
            "Total params: 3,272\n",
            "Trainable params: 3,272\n",
            "Non-trainable params: 0\n",
            "_________________________________________________________________\n",
            "\n",
            "Epoch: 0, accuracy:0.9319,  loss:1.1830,  val_accuracy:0.9561,  val_loss:0.8795,  \n",
            "..........\n",
            "Training MLP completato in 1.25 s.\n",
            "Train: Precision =  tf.Tensor(0.9895833, shape=(), dtype=float32) Recall =  tf.Tensor(1.0, shape=(), dtype=float32) \n",
            "\n",
            "Test: Precision =  tf.Tensor(0.98342544, shape=(), dtype=float32) Recall =  tf.Tensor(0.9971989, shape=(), dtype=float32) \n",
            "\n"
          ]
        },
        {
          "output_type": "display_data",
          "data": {
            "image/png": "[encoded data removed]",
            "text/plain": [
              "<Figure size 432x288 with 1 Axes>"
            ]
          },
          "metadata": {
            "needs_background": "light"
          }
        },
        {
          "output_type": "display_data",
          "data": {
            "image/png": "[encoded data removed]",
            "text/plain": [
              "<Figure size 432x288 with 1 Axes>"
            ]
          },
          "metadata": {
            "needs_background": "light"
          }
        }
      ]
    },
    {
      "cell_type": "code",
      "metadata": {
        "id": "m5I0YkVqHSAv",
        "colab": {
          "base_uri": "https://localhost:8080/"
        },
        "outputId": "fdefe7ea-7d2c-4d5c-c613-eece23eea0a0"
      },
      "source": [
        "print(values, '\\n')\n",
        "print(param_others)"
      ],
      "execution_count": 167,
      "outputs": [
        {
          "output_type": "stream",
          "name": "stdout",
          "text": [
            "{'learning_rate': 0.5, 'momentum': 0.6, 'optimizer': 'SGD', 'init_mode': 'normal', 'activation_hidden': 'tanh', 'activation_output': 'sigmoid', 'n_neurons': 80} \n",
            "\n",
            "{'learning_rate': 0.1, 'optimizer': 'Adam'}\n"
          ]
        }
      ]
    },
    {
      "cell_type": "code",
      "metadata": {
        "id": "Poxm_LmRqXJl"
      },
      "source": [
        "def save(values, param_others):\n",
        "  a_file = open(\"values.json\", \"w\")\n",
        "  adam_parameter = open(\"adam.json\", \"w\")\n",
        "  json.dump(values, a_file)\n",
        "  json.dump(param_others, adam_parameter)\n",
        "  a_file.close()\n",
        "  adam_parameter.close()\n",
        "\n"
      ],
      "execution_count": 196,
      "outputs": []
    },
    {
      "cell_type": "code",
      "metadata": {
        "id": "haMghAMMUei3"
      },
      "source": [
        "save(values, param_others)"
      ],
      "execution_count": 197,
      "outputs": []
    },
    {
      "cell_type": "code",
      "metadata": {
        "id": "bRUCRte8wizT"
      },
      "source": [
        "def save_all_weigths(model, model4):\n",
        "  model.save_weights('my_checkpoint')\n",
        "  model4.save_weights('my_checkpoint4')\n",
        "#files.download('saved_weigths/my_weights.data')\n"
      ],
      "execution_count": 50,
      "outputs": []
    },
    {
      "cell_type": "code",
      "metadata": {
        "id": "f_sXTHuIrQ1P"
      },
      "source": [
        "def read_values():\n",
        "  a_file = open(\"values.json\", \"r\")\n",
        "  values = json.load(a_file)\n",
        "  print(values, type(values))"
      ],
      "execution_count": 51,
      "outputs": []
    },
    {
      "cell_type": "code",
      "metadata": {
        "id": "sq660gBvB0wI"
      },
      "source": [
        ""
      ],
      "execution_count": 51,
      "outputs": []
    }
  ]
}