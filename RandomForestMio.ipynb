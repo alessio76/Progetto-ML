{
  "nbformat": 4,
  "nbformat_minor": 0,
  "metadata": {
    "colab": {
      "name": "RandomForestMio.ipynb",
      "provenance": [],
      "collapsed_sections": [],
      "authorship_tag": "ABX9TyMSkXKiJorNxVUuwspVeVtr",
      "include_colab_link": true
    },
    "kernelspec": {
      "name": "python3",
      "display_name": "Python 3"
    },
    "language_info": {
      "name": "python"
    }
  },
  "cells": [
    {
      "cell_type": "markdown",
      "metadata": {
        "id": "view-in-github",
        "colab_type": "text"
      },
      "source": [
        "<a href=\"https://colab.research.google.com/github/alessio76/Progetto-ML/blob/main/RandomForestMio.ipynb\" target=\"_parent\"><img src=\"https://colab.research.google.com/assets/colab-badge.svg\" alt=\"Open In Colab\"/></a>"
      ]
    },
    {
      "cell_type": "code",
      "metadata": {
        "id": "NhfnuQ6_4Zq8"
      },
      "source": [
        "from sklearn.model_selection import cross_val_score, GridSearchCV, ParameterGrid, train_test_split\n",
        "from sklearn.datasets import load_breast_cancer\n",
        "from sklearn.neighbors import DistanceMetric\n",
        "from sklearn import metrics\n",
        "from sklearn.preprocessing import StandardScaler, MinMaxScaler, MaxAbsScaler\n",
        "from sklearn.metrics import confusion_matrix\n",
        "from sklearn.decomposition import PCA\n",
        "import numpy as np\n",
        "import seaborn as sns; sns.set()\n",
        "from sklearn.tree import DecisionTreeClassifier\n",
        "from sklearn.ensemble import RandomForestClassifier"
      ],
      "execution_count": null,
      "outputs": []
    },
    {
      "cell_type": "code",
      "metadata": {
        "id": "PXfSANlw5ab5"
      },
      "source": [
        "def grid_search(classifier, training_set, param_grid, n_folds, training_labels):\n",
        "  grid_search_cv = GridSearchCV(classifier, param_grid, cv=n_folds)\n",
        "  grid_search_cv.fit(training_set,training_labels)\n",
        "  print('Combinazione migliore:\\n', grid_search_cv.best_params_)\n",
        "  print('Accuratezza media della combinazione migliore: %.3f' % grid_search_cv.best_score_)\n",
        "  return grid_search_cv.best_params_"
      ],
      "execution_count": null,
      "outputs": []
    },
    {
      "cell_type": "code",
      "metadata": {
        "id": "DK4zXJa4-s1u"
      },
      "source": [
        "def scoring(classifier, pred_y_test, pred_y_train, test_y, train_y):\n",
        "  print(metrics.classification_report(pred_y_test, test_y))\n",
        "  print(metrics.classification_report(pred_y_train, train_y))\n",
        "  mat = confusion_matrix(test_y, pred_y_test)\n",
        "  sns.heatmap(mat.T, square=True, annot=True, fmt='d', cbar=False)"
      ],
      "execution_count": null,
      "outputs": []
    },
    {
      "cell_type": "code",
      "metadata": {
        "id": "PEbFw5tG4L71"
      },
      "source": [
        "def predict_values(classifier, test_set, training_set):\n",
        "  y_test = classifier.predict(test_set)\n",
        "  y_train = classifier.predict(training_set)\n",
        "  return y_test, y_train"
      ],
      "execution_count": null,
      "outputs": []
    },
    {
      "cell_type": "code",
      "metadata": {
        "colab": {
          "base_uri": "https://localhost:8080/"
        },
        "id": "oJB9mBkC5Guk",
        "outputId": "bb545e76-6c49-46d2-ce08-1882a5f04783"
      },
      "source": [
        "dataset = load_breast_cancer()\n",
        "x,y = dataset[\"data\"], dataset[\"target\"]\n",
        "train_x, test_x, train_y, test_y = train_test_split(x, y, test_size=.3, random_state=1)\n",
        "print(train_x.shape, train_y.shape, test_x.shape, test_y.shape)"
      ],
      "execution_count": null,
      "outputs": [
        {
          "output_type": "stream",
          "name": "stdout",
          "text": [
            "(398, 30) (398,) (171, 30) (171,)\n"
          ]
        }
      ]
    },
    {
      "cell_type": "code",
      "metadata": {
        "colab": {
          "base_uri": "https://localhost:8080/"
        },
        "id": "oZ-H2kL57lhS",
        "outputId": "670e3b0b-c34d-43cc-86f7-ca4939b2a405"
      },
      "source": [
        "base_classifier = RandomForestClassifier(random_state=0)\n",
        "param_grid = {'n_estimators' : list(range(101,401,50))}\n",
        "n_folds = 5\n",
        "base_values = grid_search(base_classifier, train_x, param_grid, n_folds, train_y)\n",
        "base_classifier.set_params(**base_values)"
      ],
      "execution_count": null,
      "outputs": [
        {
          "output_type": "stream",
          "name": "stdout",
          "text": [
            "Combinazione migliore:\n",
            " {'n_estimators': 351}\n",
            "Accuratezza media della combinazione migliore: 0.947\n"
          ]
        },
        {
          "output_type": "execute_result",
          "data": {
            "text/plain": [
              "RandomForestClassifier(bootstrap=True, ccp_alpha=0.0, class_weight=None,\n",
              "                       criterion='gini', max_depth=None, max_features='auto',\n",
              "                       max_leaf_nodes=None, max_samples=None,\n",
              "                       min_impurity_decrease=0.0, min_impurity_split=None,\n",
              "                       min_samples_leaf=1, min_samples_split=2,\n",
              "                       min_weight_fraction_leaf=0.0, n_estimators=351,\n",
              "                       n_jobs=None, oob_score=False, random_state=0, verbose=0,\n",
              "                       warm_start=False)"
            ]
          },
          "metadata": {},
          "execution_count": 62
        }
      ]
    },
    {
      "cell_type": "code",
      "metadata": {
        "colab": {
          "base_uri": "https://localhost:8080/"
        },
        "id": "7JMpmySYLcs-",
        "outputId": "ef9f58de-58d3-4ea5-99f0-db4c3368dc95"
      },
      "source": [
        "param_grid = {'max_depth': list(range(2,15))}\n",
        "base_values = {**base_values, **grid_search(base_classifier, train_x, param_grid, n_folds, train_y)}\n",
        "base_classifier.set_params(**base_values)\n",
        "print(base_values)"
      ],
      "execution_count": null,
      "outputs": [
        {
          "output_type": "stream",
          "name": "stdout",
          "text": [
            "Combinazione migliore:\n",
            " {'max_depth': 6}\n",
            "Accuratezza media della combinazione migliore: 0.947\n",
            "{'n_estimators': 351, 'max_depth': 6}\n"
          ]
        }
      ]
    },
    {
      "cell_type": "code",
      "metadata": {
        "colab": {
          "base_uri": "https://localhost:8080/",
          "height": 570
        },
        "id": "U-lI_ZDOSap0",
        "outputId": "c37722cf-5fd8-4466-f0dc-59756e18e91a"
      },
      "source": [
        "base_classifier.fit(train_x, train_y)\n",
        "pred_y_test, pred_y_train = predict_values(base_classifier, test_x, train_x)\n",
        "scoring(base_classifier, pred_y_test, pred_y_train, test_y, train_y)"
      ],
      "execution_count": null,
      "outputs": [
        {
          "output_type": "stream",
          "name": "stdout",
          "text": [
            "              precision    recall  f1-score   support\n",
            "\n",
            "           0       0.92      0.94      0.93        62\n",
            "           1       0.96      0.95      0.96       109\n",
            "\n",
            "    accuracy                           0.95       171\n",
            "   macro avg       0.94      0.94      0.94       171\n",
            "weighted avg       0.95      0.95      0.95       171\n",
            "\n",
            "              precision    recall  f1-score   support\n",
            "\n",
            "           0       1.00      1.00      1.00       149\n",
            "           1       1.00      1.00      1.00       249\n",
            "\n",
            "    accuracy                           1.00       398\n",
            "   macro avg       1.00      1.00      1.00       398\n",
            "weighted avg       1.00      1.00      1.00       398\n",
            "\n"
          ]
        },
        {
          "output_type": "display_data",
          "data": {
            "image/png": "[encoded data removed]",
            "text/plain": [
              "<Figure size 432x288 with 1 Axes>"
            ]
          },
          "metadata": {}
        }
      ]
    },
    {
      "cell_type": "code",
      "metadata": {
        "id": "HgAHpirAxEfj"
      },
      "source": [
        "scaler = StandardScaler()\n",
        "scaler.fit(train_x)\n",
        "scaled_train_x = scaler.transform(train_x)\n",
        "scaled_test_x = scaler.transform(test_x)"
      ],
      "execution_count": null,
      "outputs": []
    },
    {
      "cell_type": "code",
      "metadata": {
        "colab": {
          "base_uri": "https://localhost:8080/"
        },
        "id": "GQUlCRr676rU",
        "outputId": "2a3ff056-571b-4347-973f-0a4fcfef2425"
      },
      "source": [
        "scaled_classifier = RandomForestClassifier(random_state=0)\n",
        "param_grid = {'n_estimators' : list(range(101,401,20))}\n",
        "scaled_values = grid_search(scaled_classifier, scaled_train_x, param_grid , n_folds, train_y)\n",
        "scaled_classifier.set_params(**scaled_values)"
      ],
      "execution_count": null,
      "outputs": [
        {
          "output_type": "stream",
          "name": "stdout",
          "text": [
            "Combinazione migliore:\n",
            " {'n_estimators': 321}\n",
            "Accuratezza media della combinazione migliore: 0.947\n"
          ]
        },
        {
          "output_type": "execute_result",
          "data": {
            "text/plain": [
              "RandomForestClassifier(bootstrap=True, ccp_alpha=0.0, class_weight=None,\n",
              "                       criterion='gini', max_depth=None, max_features='auto',\n",
              "                       max_leaf_nodes=None, max_samples=None,\n",
              "                       min_impurity_decrease=0.0, min_impurity_split=None,\n",
              "                       min_samples_leaf=1, min_samples_split=2,\n",
              "                       min_weight_fraction_leaf=0.0, n_estimators=321,\n",
              "                       n_jobs=None, oob_score=False, random_state=0, verbose=0,\n",
              "                       warm_start=False)"
            ]
          },
          "metadata": {},
          "execution_count": 66
        }
      ]
    },
    {
      "cell_type": "code",
      "metadata": {
        "colab": {
          "base_uri": "https://localhost:8080/"
        },
        "id": "CBx3t8CJrsPh",
        "outputId": "dc99f94e-8d4b-428d-ef02-cac36762f42e"
      },
      "source": [
        "param_grid = {'max_depth': list(range(2,15))}\n",
        "scaled_values = {**scaled_values, **grid_search(scaled_classifier, scaled_train_x, param_grid, n_folds, train_y)}\n",
        "scaled_classifier.set_params(**scaled_values)\n",
        "print(scaled_values)"
      ],
      "execution_count": null,
      "outputs": [
        {
          "output_type": "stream",
          "name": "stdout",
          "text": [
            "Combinazione migliore:\n",
            " {'max_depth': 7}\n",
            "Accuratezza media della combinazione migliore: 0.947\n",
            "{'n_estimators': 321, 'max_depth': 7}\n"
          ]
        }
      ]
    },
    {
      "cell_type": "code",
      "metadata": {
        "colab": {
          "base_uri": "https://localhost:8080/",
          "height": 570
        },
        "id": "gb1x_lvz8i35",
        "outputId": "d52fe085-3ebf-4459-b9a6-bff1eaf42d2c"
      },
      "source": [
        "scaled_classifier.fit(scaled_train_x, train_y)\n",
        "scaled_pred_y_test, scaled_pred_y_train = predict_values(scaled_classifier, scaled_test_x, scaled_train_x)\n",
        "scoring(scaled_classifier, scaled_pred_y_test, scaled_pred_y_train, test_y, train_y)"
      ],
      "execution_count": null,
      "outputs": [
        {
          "output_type": "stream",
          "name": "stdout",
          "text": [
            "              precision    recall  f1-score   support\n",
            "\n",
            "           0       0.92      0.94      0.93        62\n",
            "           1       0.96      0.95      0.96       109\n",
            "\n",
            "    accuracy                           0.95       171\n",
            "   macro avg       0.94      0.94      0.94       171\n",
            "weighted avg       0.95      0.95      0.95       171\n",
            "\n",
            "              precision    recall  f1-score   support\n",
            "\n",
            "           0       1.00      1.00      1.00       149\n",
            "           1       1.00      1.00      1.00       249\n",
            "\n",
            "    accuracy                           1.00       398\n",
            "   macro avg       1.00      1.00      1.00       398\n",
            "weighted avg       1.00      1.00      1.00       398\n",
            "\n"
          ]
        },
        {
          "output_type": "display_data",
          "data": {
            "image/png": "[encoded data removed]",
            "text/plain": [
              "<Figure size 432x288 with 1 Axes>"
            ]
          },
          "metadata": {}
        }
      ]
    },
    {
      "cell_type": "code",
      "metadata": {
        "colab": {
          "base_uri": "https://localhost:8080/"
        },
        "id": "Ta_1uDta9Fl4",
        "outputId": "3ae86ada-7e62-4e95-af3e-6b05894ee725"
      },
      "source": [
        "preservedInfo = .95\n",
        "pca = PCA(preservedInfo)\n",
        "pca.fit(scaled_train_x)\n",
        "reduced_train_x, reduced_test_x = pca.transform(scaled_train_x), pca.transform(scaled_test_x)\n",
        "print(reduced_train_x.shape, reduced_test_x.shape)"
      ],
      "execution_count": null,
      "outputs": [
        {
          "output_type": "stream",
          "name": "stdout",
          "text": [
            "(398, 10) (171, 10)\n"
          ]
        }
      ]
    },
    {
      "cell_type": "code",
      "metadata": {
        "colab": {
          "base_uri": "https://localhost:8080/"
        },
        "id": "wSBIP3tc-d0f",
        "outputId": "eb532fc9-5a1a-4773-baea-c59560724b9b"
      },
      "source": [
        "reduced_classifier = RandomForestClassifier(random_state=0)\n",
        "param_grid = {'n_estimators' : list(range(101,401,20))}\n",
        "reduced_values = grid_search(reduced_classifier, reduced_train_x, param_grid,n_folds,train_y)\n",
        "reduced_classifier.set_params(**reduced_values)"
      ],
      "execution_count": null,
      "outputs": [
        {
          "output_type": "stream",
          "name": "stdout",
          "text": [
            "Combinazione migliore:\n",
            " {'n_estimators': 121}\n",
            "Accuratezza media della combinazione migliore: 0.950\n"
          ]
        },
        {
          "output_type": "execute_result",
          "data": {
            "text/plain": [
              "RandomForestClassifier(bootstrap=True, ccp_alpha=0.0, class_weight=None,\n",
              "                       criterion='gini', max_depth=None, max_features='auto',\n",
              "                       max_leaf_nodes=None, max_samples=None,\n",
              "                       min_impurity_decrease=0.0, min_impurity_split=None,\n",
              "                       min_samples_leaf=1, min_samples_split=2,\n",
              "                       min_weight_fraction_leaf=0.0, n_estimators=121,\n",
              "                       n_jobs=None, oob_score=False, random_state=0, verbose=0,\n",
              "                       warm_start=False)"
            ]
          },
          "metadata": {},
          "execution_count": 71
        }
      ]
    },
    {
      "cell_type": "code",
      "metadata": {
        "colab": {
          "base_uri": "https://localhost:8080/"
        },
        "id": "bI2OSO6z-dmG",
        "outputId": "1a11c83f-e268-4839-ae94-6961009136e4"
      },
      "source": [
        "param_grid = {'max_depth': list(range(2,15))}\n",
        "reduced_values = {**reduced_values, **grid_search(reduced_classifier, reduced_train_x, param_grid, n_folds, train_y)}\n",
        "reduced_classifier.set_params(**reduced_values)\n",
        "print(reduced_values)"
      ],
      "execution_count": null,
      "outputs": [
        {
          "output_type": "stream",
          "name": "stdout",
          "text": [
            "Combinazione migliore:\n",
            " {'max_depth': 8}\n",
            "Accuratezza media della combinazione migliore: 0.950\n",
            "{'n_estimators': 121, 'max_depth': 8}\n"
          ]
        }
      ]
    },
    {
      "cell_type": "code",
      "metadata": {
        "colab": {
          "base_uri": "https://localhost:8080/",
          "height": 570
        },
        "id": "NwkrprTq-dSD",
        "outputId": "e8c7c2ab-7bcd-4ce7-af28-050b0768a30b"
      },
      "source": [
        "reduced_classifier.fit(reduced_train_x, train_y)\n",
        "reduced_pred_y_test, reduced_pred_y_train = predict_values(reduced_classifier, reduced_test_x, reduced_train_x)\n",
        "scoring(reduced_classifier, reduced_pred_y_test, reduced_pred_y_train, test_y, train_y)"
      ],
      "execution_count": null,
      "outputs": [
        {
          "output_type": "stream",
          "name": "stdout",
          "text": [
            "              precision    recall  f1-score   support\n",
            "\n",
            "           0       0.94      0.92      0.93        64\n",
            "           1       0.95      0.96      0.96       107\n",
            "\n",
            "    accuracy                           0.95       171\n",
            "   macro avg       0.95      0.94      0.94       171\n",
            "weighted avg       0.95      0.95      0.95       171\n",
            "\n",
            "              precision    recall  f1-score   support\n",
            "\n",
            "           0       1.00      1.00      1.00       149\n",
            "           1       1.00      1.00      1.00       249\n",
            "\n",
            "    accuracy                           1.00       398\n",
            "   macro avg       1.00      1.00      1.00       398\n",
            "weighted avg       1.00      1.00      1.00       398\n",
            "\n"
          ]
        },
        {
          "output_type": "display_data",
          "data": {
            "image/png": "[encoded data removed]",
            "text/plain": [
              "<Figure size 432x288 with 1 Axes>"
            ]
          },
          "metadata": {}
        }
      ]
    },
    {
      "cell_type": "code",
      "metadata": {
        "id": "N7gm8Qxj_a82"
      },
      "source": [
        ""
      ],
      "execution_count": null,
      "outputs": []
    }
  ]
}